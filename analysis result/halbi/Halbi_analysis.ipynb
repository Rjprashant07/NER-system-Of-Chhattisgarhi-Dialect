{
  "nbformat": 4,
  "nbformat_minor": 0,
  "metadata": {
    "colab": {
      "provenance": []
    },
    "kernelspec": {
      "name": "python3",
      "display_name": "Python 3"
    },
    "language_info": {
      "name": "python"
    }
  },
  "cells": [
    {
      "cell_type": "code",
      "execution_count": 1,
      "metadata": {
        "colab": {
          "base_uri": "https://localhost:8080/"
        },
        "id": "TenoBKiWUjpT",
        "outputId": "f5133510-7246-4104-b098-99e6056209df"
      },
      "outputs": [
        {
          "output_type": "stream",
          "name": "stdout",
          "text": [
            "Requirement already satisfied: nltk in /usr/local/lib/python3.11/dist-packages (3.9.1)\n",
            "Requirement already satisfied: click in /usr/local/lib/python3.11/dist-packages (from nltk) (8.1.8)\n",
            "Requirement already satisfied: joblib in /usr/local/lib/python3.11/dist-packages (from nltk) (1.4.2)\n",
            "Requirement already satisfied: regex>=2021.8.3 in /usr/local/lib/python3.11/dist-packages (from nltk) (2024.11.6)\n",
            "Requirement already satisfied: tqdm in /usr/local/lib/python3.11/dist-packages (from nltk) (4.67.1)\n"
          ]
        },
        {
          "output_type": "stream",
          "name": "stderr",
          "text": [
            "[nltk_data] Downloading package punkt_tab to /root/nltk_data...\n",
            "[nltk_data]   Unzipping tokenizers/punkt_tab.zip.\n"
          ]
        },
        {
          "output_type": "stream",
          "name": "stdout",
          "text": [
            "Collecting morfessor\n",
            "  Downloading Morfessor-2.0.6-py3-none-any.whl.metadata (628 bytes)\n",
            "Downloading Morfessor-2.0.6-py3-none-any.whl (35 kB)\n",
            "Installing collected packages: morfessor\n",
            "Successfully installed morfessor-2.0.6\n"
          ]
        }
      ],
      "source": [
        "#pip uninstall nltk\n",
        "!pip install nltk\n",
        "import nltk\n",
        "nltk.download('punkt_tab')\n",
        "!pip install morfessor\n",
        "import numpy as np"
      ]
    },
    {
      "cell_type": "code",
      "source": [
        "import re\n",
        "import math\n",
        "from collections import Counter\n",
        "import matplotlib.pyplot as plt\n",
        "from nltk.tokenize import word_tokenize, sent_tokenize\n",
        "import morfessor\n",
        "from morfessor.io import MorfessorIO\n",
        "from morfessor.baseline import BaselineModel\n",
        "\n",
        "# Read Chhattisgarhi text from a file\n",
        "with open('totalhalbi.txt', 'r', encoding='utf-8') as file:\n",
        "   totalhalbi = file.read()\n",
        "\n",
        "# Preprocess the text\n",
        "def preprocess_text(text):\n",
        "    # Remove Hindi full stop (।) and double full stop (॥)\n",
        "    text = re.sub(r'[\\u0964\\u0965]', '', text)\n",
        "    # Remove other punctuation marks but keep words and spaces\n",
        "    text = re.sub(r'[^\\w\\s]', '', text)\n",
        "    return text\n",
        "\n",
        "# Tokenize the text into words using NLTK\n",
        "def tokenize(text):\n",
        "    return word_tokenize(text)\n",
        "\n",
        "# Count the number of sentences\n",
        "def count_sentences(text):\n",
        "    sentence_delimiters = r'[\\u0964\\u0965.!।|?]'\n",
        "    sentences = re.split(sentence_delimiters, text)\n",
        "    sentences = [s.strip() for s in sentences if s.strip()]\n",
        "    return len(sentences)\n",
        "\n",
        "# Calculate Type-Token Ratio (TTR)\n",
        "def calculate_ttr(tokens):\n",
        "    unique_tokens = set(tokens)\n",
        "    return len(unique_tokens) / len(tokens) if tokens else 0\n",
        "\n",
        "# Calculate Moving Average TTR (MATTR)\n",
        "def calculate_mattr(tokens, window_size=500):\n",
        "    if len(tokens) < window_size:\n",
        "        return calculate_ttr(tokens)\n",
        "    mattr_values = [calculate_ttr(tokens[i:i + window_size]) for i in range(len(tokens) - window_size + 1)]\n",
        "    return sum(mattr_values) / len(mattr_values)\n",
        "\n",
        "# Calculate entropy\n",
        "def calculate_entropy(frequencies, total_tokens):\n",
        "    entropy = -sum((count / total_tokens) * math.log2(count / total_tokens) for count in frequencies.values())\n",
        "    return entropy\n",
        "\n",
        "# Perform frequency analysis\n",
        "def frequency_analysis(words):\n",
        "    return Counter(words)\n",
        "\n",
        "# Count rare types (unique words appearing only once)\n",
        "def count_rare_types(frequencies):\n",
        "    return sum(1 for count in frequencies.values() if count == 1)\n",
        "\n",
        "# Function to calculate relative frequency and cumulative coverage of top 10 morphemes\n",
        "def calculate_relative_and_cumulative(frequencies):\n",
        "    total_count = sum(frequencies.values())\n",
        "    sorted_frequencies = frequencies.most_common(10)\n",
        "\n",
        "    relative_frequencies = {word: count / total_count for word, count in sorted_frequencies}\n",
        "    cumulative_coverage = []\n",
        "    cumulative_sum = 0\n",
        "    for word, count in sorted_frequencies:\n",
        "        cumulative_sum += count / total_count\n",
        "        cumulative_coverage.append((word, cumulative_sum))\n",
        "\n",
        "    return relative_frequencies, cumulative_coverage\n",
        "\n",
        "    # Compute and plot Zipf's Law\n",
        "def calculate_zipfs_law(frequencies):\n",
        "    sorted_frequencies = frequencies.most_common()\n",
        "    ranks = np.arange(1, len(sorted_frequencies) + 1)\n",
        "    word_frequencies = np.array([freq for _, freq in sorted_frequencies])\n",
        "    return ranks, word_frequencies\n",
        "\n",
        "def plot_zipfs_law(ranks, frequencies):\n",
        "    plt.figure(figsize=(10, 6))\n",
        "    plt.loglog(ranks, frequencies, marker=\"o\", linestyle=\"none\", markersize=4, label=\"Actual Data\")\n",
        "\n",
        "    # Fit a Zipfian curve (linear fit on log-log scale)\n",
        "    log_ranks = np.log(ranks)\n",
        "    log_frequencies = np.log(frequencies)\n",
        "    slope, intercept = np.polyfit(log_ranks, log_frequencies, 1)\n",
        "    predicted_frequencies = np.exp(intercept) * ranks ** slope\n",
        "\n",
        "    plt.loglog(ranks, predicted_frequencies, linestyle=\"dashed\", color=\"red\", label=f\"Fit: slope={slope:.2f}\")\n",
        "    plt.xlabel(\"Rank (log scale)\")\n",
        "    plt.ylabel(\"Frequency (log scale)\")\n",
        "    plt.title(\"Zipf's Law: Word Frequency vs Rank\")\n",
        "    plt.legend()\n",
        "    plt.grid(True)\n",
        "    plt.show()\n",
        "\n",
        "    print(f\"Estimated Zipf's Law exponent: {slope:.2f}\")\n",
        "\n",
        "\n",
        "# Load the trained Morfessor model\n",
        "def load_morfessor_model(model_path):\n",
        "    io = MorfessorIO()\n",
        "    return io.read_binary_model_file(model_path)\n",
        "\n",
        "# Perform morphological analysis with Morfessor\n",
        "def analyze_morphology_with_morfessor(model, tokens):\n",
        "    # Join morphemes with a \"+\" sign\n",
        "    morphed_tokens = []\n",
        "    for token in tokens:\n",
        "        morphed = model.viterbi_segment(token)[0]\n",
        "        morphed_with_space = ' '.join(morphed)  # Join morphemes with '+'\n",
        "        morphed_tokens.append(morphed_with_space)\n",
        "    return morphed_tokens\n",
        "\n",
        "# Main analysis pipeline\n",
        "preprocessed_text = preprocess_text(totalhalbi)\n",
        "tokens = tokenize(preprocessed_text)\n",
        "frequencies = frequency_analysis(tokens)\n",
        "rare_type_count = count_rare_types(frequencies)\n",
        "ttr = calculate_ttr(tokens)\n",
        "sentence_count = count_sentences(totalhalbi)\n",
        "mattr = calculate_mattr(tokens)\n",
        "entropy = calculate_entropy(frequencies, len(tokens))\n",
        "\n",
        "# Load the pre-trained Morfessor model\n",
        "model_path = 'halbi.bin'\n",
        "morfessor_model = load_morfessor_model(model_path)\n",
        "\n",
        "# Perform morphological analysis with Morfessor\n",
        "root_words_morfessor = analyze_morphology_with_morfessor(morfessor_model, tokens)\n",
        "\n",
        "# Calculate relative frequency and cumulative coverage of top 10 morphemes\n",
        "relative_frequencies, cumulative_coverage = calculate_relative_and_cumulative(frequencies)\n",
        "\n",
        "# Calculate and plot Zipf's Law\n",
        "ranks, word_frequencies = calculate_zipfs_law(frequencies)\n",
        "plot_zipfs_law(ranks, word_frequencies)\n",
        "\n",
        "# Display results\n",
        "print(\"Total Words:\", len(tokens))\n",
        "print(\"Unique Words:\", len(set(tokens)))\n",
        "print(\"Type-Token Ratio (TTR):\", ttr)\n",
        "print(\"Moving Average TTR (MATTR):\", mattr)\n",
        "print(\"Total Rare Types:\", rare_type_count)\n",
        "print(\"Entropy:\", entropy)\n",
        "print(\"Most Common Words:\", frequencies.most_common(10))\n",
        "print(\"Root Words (Morphed using Morfessor):\", root_words_morfessor[:1000])\n",
        "print(\"Total no. of sentences:\", sentence_count)\n",
        "print(\"Relative Frequencies of Top 10 Morphemes:\", relative_frequencies)\n",
        "print(\"Cumulative Coverage of Top 10 Morphemes:\", cumulative_coverage)\n"
      ],
      "metadata": {
        "colab": {
          "base_uri": "https://localhost:8080/",
          "height": 797
        },
        "id": "EJ6xsw3BWpxk",
        "outputId": "bf2fa8b0-06e5-4bfe-86aa-cdfc21891def"
      },
      "execution_count": null,
      "outputs": [
        {
          "output_type": "display_data",
          "data": {
            "text/plain": [
              "<Figure size 1000x600 with 1 Axes>"
            ],
            "image/png": "[encoded data removed]"
          },
          "metadata": {}
        },
        {
          "output_type": "stream",
          "name": "stdout",
          "text": [
            "Estimated Zipf's Law exponent: -1.16\n",
            "Total Words: 64578\n",
            "Unique Words: 6853\n",
            "Type-Token Ratio (TTR): 0.10611973117780049\n",
            "Moving Average TTR (MATTR): 0.4805627116527687\n",
            "Total Rare Types: 3554\n",
            "Entropy: 9.663154113500541\n",
            "Most Common Words: [('क', 3057), ('न', 2253), ('च', 2071), ('बल', 863), ('मन', 817), ('लग', 742), ('हन', 709), ('रज', 670), ('आउर', 662), ('ल', 570)]\n",
            "Root Words (Morphed using Morfessor): ['करन कट न', 'च', 'ए यल', 'बस तर य', 'ल ल', 'च', 'क ड य', 'आउर', 'मत', 'म दर', 'च', 'फ व ल', 'भ कर', 'ब मन', 'च', 'घर', 'जग', 'ल', 'जग', 'हल', 'एक', 'म इल', 'च', 'बट', 'टर टर', 'उपर', 'पर न', 'बल ल', 'न', 'आम', 'दन', 'आम', 'ड मर', 'बर', 'ड मर', 'आव र', 'फर ल', 'आव र', 'आउर', 'क स', 'बलत', 'क', 'लक लक मन', 'च', 'पड त', 'इ सकल', 'च', 'पर', 'प सर', 'म डन', 'पय स', 'ज ट त', 'क ज', 'हर मस', 'ड ड गड', 'द उन', 'त यर', 'रय', 'पन र पर', 'च', 'त ल', 'पन रन', 'च', 'मय', 'ब त', 'ब ग प ल न', 'ड कर', 'दन क', 'कय', 'हल', 'झट क', 'आउर', 'म टक', 'दन', 'भईन', 'सल ट', 'बस त', 'क', 'धर न', 'पड त', 'क ज', 'इ सकल', 'अमर अमर', 'नल', 'खट', 'लग', 'आठ नन', 'बलत', 'ब त', 'आठ', 'आन', 'पय स', 'क', 'भ ट ल', 'दन', 'भईन', 'न', 'झट क', 'ब ड', 'आउर', 'म टक', 'नन', 'झट क', 'त सर', 'गल स', 'न', 'आउर', 'म टक', 'प यल', 'गल स', 'न', 'झट क', 'जग ल', 'ज त', 'तर य', 'च ड ल न', 'च', 'प ठ', 'बस', 'रय', 'आउर', 'म टक', 'नन', 'हल', 'कय', 'हल', 'नन', 'मर', 'म ट', 'झ र', 'पय स', 'क', 'ब च त', 'खन', 'झट क', 'म टक', 'क', 'फ सय उक', 'मर यल', 'बल ल', 'म टक', 'आन', 'पय स', 'क', 'मक', 'दस', 'त य', 'पय स', 'क', 'ह जस', 'आन', 'मय', 'फरक', 'च', 'जब', 'न', 'स गन', 'र यन द', 'त च', 'फरक', 'न', 'त', 'जब', 'बल', 'न हय', 'प स प', 'छट', 'हल', 'त च', 'क ज', 'कम रस', 'घन न', 'दय न द', 'आन', 'पय स', 'क', 'मक', 'दस', 'आउर', 'त च म च', 'सल ट', 'बस त', 'क', 'इ सकल', 'अमर त', 'ल', 'त य', 'घर', 'म टक', 'बल', 'त', 'कम', 'च तर', 'न', 'रय', 'झट क', 'च', 'चल क', 'क', 'सम जल', 'आउर', 'बल ल', 'नई', 'कय', 'द द', 'त य', 'ब ड', 'आस', 'पर ल', 'सल ट', 'बस त', 'क', 'त ब', 'चर', 'पय स', 'क', 'मय', 'कर ड', 'डर', 'न', 'ब दल', 'बस न', 'न', 'स गन', 'र यन द', 'आउर', 'छट', 'हल', 'त च', 'क ज', 'चर', 'आन', 'च', 'कर', 'ड ड', 'घन न', 'दय न द', 'झट क', 'बल', 'फर', 'कह', 'मन त', 'त', 'न', 'म च', 'भईन', 'म च', 'लड', 'मक', 'दस', 'कय', 'हर', 'बल न', 'थ कल', 'मन तर', 'म टक', 'टस', 'ल', 'मस', 'न', 'हल', 'ह त ह त', 'दन', 'भईन', 'च म कल फ ड', 'बल', 'हव ल', 'आउर', 'ड ड क', 'रउन', 'दन', 'भईन', 'फर', 'मस ल', 'सय न', 'मन', 'ठ व कय', 'बल आत', 'प ल', 'ब य', 'ब य ब य', 'ड ड क', 'लड ड आत', 'आउर', 'ड ड क', 'न', 'मस आत', 'मक', 'प क क', 'सर त', 'आस', 'हन', 'दन', 'रय', 'ल खम बर', 'इस पर', 'घर', 'ट डर', 'लक', 'म ड', 'क', 'ख जय', 'ह त', 'ख जय', 'ह त', 'पट पट', 'भ डन', 'रय', 'लक', 'मन', 'पट पट', 'भ डन', 'रल', 'कन', 'ज न', 'लक', 'मन', 'इ ज क', 'आदक', 'द', 'द', 'र', 'बल न', 'मन तर', 'म टक', 'कन', 'ज व', 'आय', 'न', 'च म ड', 'ज ओ', 'फर', 'दम ड', 'न', 'ज ओ', 'असन', 'सम', 'क', 'ट डर', 'लग', 'ओध ल', 'म टक', 'ह त', 'ल', 'छ', 'गदबव', 'लटपट', 'ट डर', 'इ सकल', 'छट', 'ह त ह त', 'झट क', 'क', 'आप ल', 'पट य', 'बन ल', 'आउर', 'बल स', 'सन ल स', 'झट क', 'द द', 'आज', 'नई', 'मय', 'द हर', 'क क', 'घर', 'मग फल', 'ब ड', 'न', 'मग फल', 'क रजक', 'ज उन', 'रल', 'ब बर', 'एक', 'झ र', 'कर जल', 'ख वत', 'ल', 'ख दल', 'आउर', 'आध', 'भ ग', 'क', 'नई', 'गर', 'न', 'प गन', 'लड', 'बद क', 'बल ल स', 'इस', 'ल', 'ज त', 'खन', 'नई', 'आय', 'क', 'मग आय', 'व', 'कय', 'त य', 'इ सकल', 'ल', 'इल स', 'जल', 'गर', 'न', 'प गल', 'मग फल', 'लड', 'दय न द', 'इ सकल', 'नत', 'क ज', 'दय न द', 'बल ल', 'स', 'आय', 'बल न', 'ट ड', 'फ ट ल', 'पन', 'क', 'स ड क', 'न य', 'भ तर', 'झ कल', 'ट डर', 'लक', 'च', 'ट ड', 'भर ल', 'पन', 'झट कम टक', 'च', 'आईख', 'पर', 'गर', 'न', 'प गल', 'मग फल', 'लड', 'आउर', 'म टक', 'च', 'बन ल', '5 3', 'ड ल मस', 'ड ल मस', 'आठ', 'आन', 'पय स', 'ट डर', 'लक', 'च', 'आईख', 'पर', 'सय खत', 'च मक न', 'ल रन', 'जय', 'बल ब', 'लक', 'मन', 'कल य', 'इ तर', 'चल क', 'रल', 'जल', 'ट डर', 'लक', 'लग', 'रल', 'क वर', 'च', 'छद', 'ह त ह त', 'लक मन', 'ट डर', 'लक', 'च', 'छद', 'आउर', 'फ द', 'क', 'सम ज क', 'न', 'सकल', 'आउर', 'प व ल', 'आठ', 'आन', 'पय स', 'क', 'दख उन', 'बल ल', 'ए द', 'ट डर', 'आज', 'नई', 'इ सकल', 'ए त', 'बर', 'ब बर म', 'आम', 'नई', 'नल खट', 'लग', 'आठ', 'आन', 'पय स', 'प व ल', 'हट', 'दन', 'आम', 'बल', 'ब बर म', 'आय', 'क', 'बल आव', 'आम च', 'क ज', 'चर', 'आन', 'च', 'लड', 'आन न', 'दस', 'आउर', 'नई', 'ब बर म', 'चर', 'आन', 'च', 'प कल', 'कर', 'आन त', 'क ज', 'बल द', 'आउर', 'आम', 'चन', 'भईन', 'बस न', 'कय', 'म ज', 'ख उन द', 'मग फल', 'लड', 'आम क', 'बल', 'द उन', 'रल स', 'जल', 'आम', 'हट', 'दन', 'त मक', 'बल', 'द उन द', 'बल', 'बल', 'त', 'म ड', 'ब हल', 'स ग', 'दन', 'क', 'क वर', 'चर प प', 'न य', 'मर ल', 'घ ई', 'ट डर', 'लक', 'म टक', 'च', 'ह त', 'च', 'पय स', 'क', 'र प प', 'क', 'मर ल', 'आउर', 'घर', 'ज ड', 'ल', 'छ', 'गदबद', 'लक मन', 'झट क', 'आउर', 'म टक', 'ग गन', 'ब कल', 'आउर', 'सब कत', 'घर', 'अमर ल', 'घत वर', 'च', 'घत', 'न', 'गर', 'न', 'प गल', 'लड', 'ज', 'पय स', 'ज', 'सत त', 'आय', 'क च', 'त', 'बल ल', 'असन', 'ज न', 'बरख', 'गल', 'आउर', 'नव', 'बरख', 'इल', 'कएक', 'झन', 'सहर य', 'लग', 'मन', 'आज', 'नव', 'बरख', 'च', 'इल', 'लग न', 'हर क उ दम', 'मन सत', 'रल', 'लक', 'क', 'ज मय', 'बर', 'हर क उ दम', 'आय', 'आउर', 'न', 'रल', 'लक', 'क', 'कई', 'न हय', 'चछ', 'क', 'कन', 'पछ', 'म डर', 'ब त', 'क', 'पछ', 'बल ल', 'असन ए', 'दन', 'दन य', 'न', 'ए', 'सव सर', 'न', 'क तर', 'दख', 'आस', 'क तर', 'अ डन प', 'आस', 'आउर', 'कएक', 'बन', 'च', 'चन त फ कर', 'आस', 'हन क', 'बल क', 'स ग क', 'न', 'हय', 'चन त फ कर', 'च', 'ब ड त', 'आस', 'मन तर', 'सर त', 'न हय', 'मन ख', 'ज व', 'च', 'जनम', 'घर ल', 'बर', 'ल', 'उ व ट', 'कर व', 'बल ल', 'कत रय', 'चन त', 'मन ख', 'क', 'ज व', 'रहत', 'ल', 'लग ल स', 'बह न', 'प व ल', 'क', 'मन ख', 'स ग च उर', 'नन त ल', 'च', 'चन त', 'ल', 'धर न', 'सव त', 'ड सन', 'न', 'बल', 'चन त', 'च प उन', 'आन स', 'सव ल', 'ठन', 'ल', 'क ड पट', 'क', 'गन तर', 'आउर', 'कल', 'च', 'हस प', 'कर तर', 'क', 'नई', 'फल न', 'ज नस', 'धरत र', 'आय', 'लक प ल', 'क ज', 'फटई', 'ए कट', 'भ यस', 'क ज', 'ज ड', 'लक', 'ब ड त', 'ए यस', 'बह', 'क ज', 'बर', 'लक', 'ज आन', 'हव ल', 'रत', 'खल त', 'ब त', 'ज त ल', 'ब यल', 'च', 'उप य द व', 'आपन', 'च', 'कन य', 'दख', 'असन', 'असन', 'ज व', 'रहत', 'ल', 'मन ख', 'क', 'कई', 'न हल', 'कई', 'ज नस', 'च', 'चन त', 'र हस', '5 5', 'ड ल मर', 'हल मर', 'भर ल', 'पट', 'न', 'गड दम र', 'बल ल', 'असन', 'ज दल दय', 'मय', 'कय', 'म ज', 'कन', 'भ यस', 'क', 'च खल', 'ड वर', 'न', 'बस न', 'च खल', 'न', 'लटपट उन', 'आईख', 'क', 'लम टन', 'ड बर', 'ल', 'म ड', 'क', 'बह र', 'न सक उन', 'र हन र हन', 'लग ड', 'क', 'हल उन', 'मछ', 'क', 'ख दत र', 'आउर', 'प गर', 'करत', 'बर', 'दख स', 'त थ', 'मय', 'मन मन', 'उ व ट', 'कर स', 'क', 'क तर', 'स ख', 'न', 'आसत', 'प शज न वर', 'मन', 'क तर', 'नगत', 'ज वन', 'आय', 'हन मन', 'च', 'बरस पन', 'च मस धम', 'च', 'चन त', 'नई', 'क', 'कय', 'ज नस', 'क तर', 'मह ग', 'हल', 'न', 'हन च', 'चन त', 'हन क', 'कय', 'चन त', 'दन', 'भर', 'ल ट बट', 'खडछट', 'ज मय', 'क', 'पट', 'भर', 'चर न', 'कन', 'लग', 'च', 'च खल', 'ख दर', 'न', 'ल ट बट', 'प गर त', 'रह द', 'आउर', 'ए', 'बट', 'च उ रच व', 'द कन य क', 'प ल झ ल', 'ल ल बल', 'च', 'पड ई ल ख ई', 'फटई लग', 'स ग भ ज', 'च उर दर', 'हट पटन', 'नन मर', 'तलधव', 'च', 'स ग स ग', 'ब हव बर', 'च', 'चन त', 'लग ल', 'स', 'उपर', 'ल', 'कन', 'पह न कर', 'अमर न', 'दल', 'न', 'फर', 'न', 'स ग', 'मह ग', 'च', 'लग न', 'हट', 'ब जर', 'ज वत', 'क', 'बल', 'डर', 'लग स', 'कन', 'ज न', 'ग दर', 'आज', 'कय', 'भ व', 'आस', 'ल ख ड', 'दर', 'च', 'मल', 'क तर', 'हल', 'ब ग', 'सम', 'म ड ब ग', 'सकल', 'हल', 'क', 'नई', 'ह', 'भ ग वन', 'कय', 'कर व', 'कय', 'स ग', 'आय', 'ब ब', 'आज', 'कन', 'पछल', 'न', 'बल न', 'द उ स', 'आज', 'चल', 'क', 'जर', 'धर ल', 'स', 'ग व पर', 'च', 'चल क', 'लक', 'मन', 'बल', 'सर ज न', 'प क', 'रद', 'ब ड', 'बर', 'बट क', 'क', 'धर न', 'त तप', 'र', 'भ डन', 'दस त', 'आल', 'ब ब', 'कय', 'स ग', 'आय', 'ख ड क', 'दय स', 'नई', 'आम च', 'घर', 'ग सय', 'कल त', 'ल', 'हट', 'गल स', 'फर न', 'न']\n",
            "Total no. of sentences: 5549\n",
            "Relative Frequencies of Top 10 Morphemes: {'क': 0.04733810275945368, 'न': 0.03488804236736969, 'च': 0.03206974511443526, 'बल': 0.013363684226826473, 'मन': 0.012651367338722165, 'लग': 0.011489981108117315, 'हन': 0.010978971166651181, 'रज': 0.010375050326736659, 'आउर': 0.010251169128805476, 'ल': 0.00882653535259686}\n",
            "Cumulative Coverage of Top 10 Morphemes: [('क', 0.04733810275945368), ('न', 0.08222614512682337), ('च', 0.11429589024125864), ('बल', 0.1276595744680851), ('मन', 0.14031094180680725), ('लग', 0.15180092291492456), ('हन', 0.16277989408157573), ('रज', 0.1731549444083124), ('आउर', 0.18340611353711786), ('ल', 0.19223264888971472)]\n"
          ]
        }
      ]
    },
    {
      "cell_type": "code",
      "source": [
        "# Analyze word length in terms of characters\n",
        "def analyze_word_length(tokens):\n",
        "    word_lengths = [len(word) for word in tokens]\n",
        "    length_counts = Counter(word_lengths)\n",
        "    return length_counts\n",
        "\n",
        "# Compute statistics for word length\n",
        "def compute_word_length_stats(word_lengths):\n",
        "    lengths = list(word_lengths.elements())\n",
        "    mean_length = np.mean(lengths)\n",
        "    median_length = np.median(lengths)\n",
        "    mode_length = max(word_lengths, key=word_lengths.get)\n",
        "    return mean_length, median_length, mode_length\n",
        "\n",
        "# Plot word length distribution\n",
        "def plot_word_length_distribution(word_lengths):\n",
        "    lengths, counts = zip(*sorted(word_lengths.items()))\n",
        "    plt.figure(figsize=(10, 6))\n",
        "    plt.bar(lengths, counts, color=\"skyblue\", edgecolor=\"black\")\n",
        "    plt.xlabel(\"Word Length (Characters)\")\n",
        "    plt.ylabel(\"Frequency\")\n",
        "    plt.title(\"Word Length Distribution\")\n",
        "    plt.xticks(lengths)\n",
        "    plt.grid(axis=\"y\", linestyle=\"dashed\", alpha=0.7)\n",
        "    plt.show()\n",
        "\n",
        "    # Analyze word length\n",
        "token_lengths = analyze_word_length(tokens)\n",
        "mean_length, median_length, mode_length = compute_word_length_stats(token_lengths)\n",
        "plot_word_length_distribution(token_lengths)\n",
        "\n",
        "# Display results\n",
        "print(\"Mean Word Length:\", mean_length)\n",
        "print(\"Median Word Length:\", median_length)\n",
        "print(\"Most Common Word Length (Mode):\", mode_length)\n",
        "\n"
      ],
      "metadata": {
        "id": "7Egj66FwW2JS",
        "colab": {
          "base_uri": "https://localhost:8080/",
          "height": 616
        },
        "outputId": "6f36e30a-715a-4310-bfb8-824a183b38e7"
      },
      "execution_count": 5,
      "outputs": [
        {
          "output_type": "display_data",
          "data": {
            "text/plain": [
              "<Figure size 1000x600 with 1 Axes>"
            ],
            "image/png": "[encoded data removed]"
          },
          "metadata": {}
        },
        {
          "output_type": "stream",
          "name": "stdout",
          "text": [
            "Mean Word Length: 2.486884078169036\n",
            "Median Word Length: 2.0\n",
            "Most Common Word Length (Mode): 2\n"
          ]
        }
      ]
    },
    {
      "cell_type": "code",
      "source": [
        "from collections import Counter\n",
        "\n",
        "# Function to generate character-level n-grams\n",
        "def get_character_ngrams(text, n):\n",
        "    return [text[i:i+n] for i in range(len(text) - n + 1)]\n",
        "\n",
        "# Function to calculate TTR\n",
        "def calculate_ttr(text, n):\n",
        "    ngrams = get_character_ngrams(text, n)\n",
        "    total_ngrams = len(ngrams)\n",
        "    unique_ngrams = len(set(ngrams))\n",
        "\n",
        "    if total_ngrams == 0:\n",
        "        return 0  # Avoid division by zero\n",
        "\n",
        "    return unique_ngrams / total_ngrams\n",
        "\n",
        "# Function to calculate MTTR with a window size\n",
        "def calculate_mttr(text, n, window_size):\n",
        "    ngrams = get_character_ngrams(text, n)\n",
        "\n",
        "    if len(ngrams) < window_size:\n",
        "        return 0  # Not enough n-grams for window\n",
        "\n",
        "    mttr_values = []\n",
        "    for i in range(len(ngrams) - window_size + 1):\n",
        "        window = ngrams[i:i+window_size]\n",
        "        unique_ngrams = len(set(window))\n",
        "        mttr_values.append(unique_ngrams / window_size)\n",
        "\n",
        "    return sum(mttr_values) / len(mttr_values) if mttr_values else 0\n",
        "\n",
        "# Read Chhattisgarhi text from the file\n",
        "with open('totalhalbi.txt', 'r', encoding='utf-8') as file:\n",
        "    text = file.read().replace(\"\\n\", \" \")  # Merge lines into a single text\n",
        "\n",
        "# Compute TTR and MTTR for n=1 to n=7\n",
        "window_size = 500  # Define window size for MTTR\n",
        "\n",
        "for n in range(1, 8):\n",
        "    ttr = calculate_ttr(text, n)\n",
        "    mttr = calculate_mttr(text, n, window_size)\n",
        "    print(f\"{n}-gram TTR: {ttr:.4f}, MTTR: {mttr:.4f}\")\n"
      ],
      "metadata": {
        "id": "HKoOC-5cW8wa",
        "colab": {
          "base_uri": "https://localhost:8080/"
        },
        "outputId": "5911f468-d698-4f56-cecb-85f8ea8a7ba2"
      },
      "execution_count": 7,
      "outputs": [
        {
          "output_type": "stream",
          "name": "stdout",
          "text": [
            "1-gram TTR: 0.0005, MTTR: 0.0918\n",
            "2-gram TTR: 0.0078, MTTR: 0.4128\n",
            "3-gram TTR: 0.0481, MTTR: 0.6849\n",
            "4-gram TTR: 0.1426, MTTR: 0.8179\n",
            "5-gram TTR: 0.2863, MTTR: 0.8848\n",
            "6-gram TTR: 0.4326, MTTR: 0.9237\n",
            "7-gram TTR: 0.5579, MTTR: 0.9486\n"
          ]
        }
      ]
    },
    {
      "cell_type": "code",
      "source": [
        "!apt install -y cmake build-essential libboost-all-dev"
      ],
      "metadata": {
        "colab": {
          "base_uri": "https://localhost:8080/"
        },
        "id": "9Mcq2ujpr6Fm",
        "outputId": "915ae1fd-0eec-4c34-8857-f3529670b794"
      },
      "execution_count": 2,
      "outputs": [
        {
          "output_type": "stream",
          "name": "stdout",
          "text": [
            "Reading package lists... Done\n",
            "Building dependency tree... Done\n",
            "Reading state information... Done\n",
            "build-essential is already the newest version (12.9ubuntu3).\n",
            "libboost-all-dev is already the newest version (1.74.0.3ubuntu7).\n",
            "cmake is already the newest version (3.22.1-1ubuntu1.22.04.2).\n",
            "0 upgraded, 0 newly installed, 0 to remove and 18 not upgraded.\n"
          ]
        }
      ]
    },
    {
      "cell_type": "code",
      "source": [
        "!git clone https://github.com/kpu/kenlm.git"
      ],
      "metadata": {
        "colab": {
          "base_uri": "https://localhost:8080/"
        },
        "id": "fEJcLtnnsH7N",
        "outputId": "2053078b-884c-480b-a94d-9e086a58d7f6"
      },
      "execution_count": 3,
      "outputs": [
        {
          "output_type": "stream",
          "name": "stdout",
          "text": [
            "Cloning into 'kenlm'...\n",
            "remote: Enumerating objects: 14170, done.\u001b[K\n",
            "remote: Counting objects: 100% (123/123), done.\u001b[K\n",
            "remote: Compressing objects: 100% (68/68), done.\u001b[K\n",
            "remote: Total 14170 (delta 85), reused 55 (delta 55), pack-reused 14047 (from 4)\u001b[K\n",
            "Receiving objects: 100% (14170/14170), 5.98 MiB | 11.27 MiB/s, done.\n",
            "Resolving deltas: 100% (8041/8041), done.\n"
          ]
        }
      ]
    },
    {
      "cell_type": "code",
      "source": [
        "!cd kenlm && mkdir -p build && cd build && cmake .. && make -j2"
      ],
      "metadata": {
        "colab": {
          "base_uri": "https://localhost:8080/"
        },
        "id": "X2KNYOc4sK8P",
        "outputId": "149a1ed0-ad0d-4ff5-843a-d7c206073dba"
      },
      "execution_count": 4,
      "outputs": [
        {
          "output_type": "stream",
          "name": "stdout",
          "text": [
            "\u001b[0mCMake Deprecation Warning at CMakeLists.txt:1 (cmake_minimum_required):\n",
            "  Compatibility with CMake < 3.10 will be removed from a future version of\n",
            "  CMake.\n",
            "\n",
            "  Update the VERSION argument <min> value.  Or, use the <min>...<max> syntax\n",
            "  to tell CMake that the project requires at least <min> but has been updated\n",
            "  to work with policies introduced by <max> or earlier.\n",
            "\n",
            "\u001b[0m\n",
            "-- The C compiler identification is GNU 11.4.0\n",
            "-- The CXX compiler identification is GNU 11.4.0\n",
            "-- Detecting C compiler ABI info\n",
            "-- Detecting C compiler ABI info - done\n",
            "-- Check for working C compiler: /usr/bin/cc - skipped\n",
            "-- Detecting C compile features\n",
            "-- Detecting C compile features - done\n",
            "-- Detecting CXX compiler ABI info\n",
            "-- Detecting CXX compiler ABI info - done\n",
            "-- Check for working CXX compiler: /usr/bin/c++ - skipped\n",
            "-- Detecting CXX compile features\n",
            "-- Detecting CXX compile features - done\n",
            "-- Could NOT find Eigen3 (missing: Eigen3_DIR)\n",
            "\u001b[33mCMake Warning (dev) at CMakeLists.txt:97 (find_package):\n",
            "  Policy CMP0167 is not set: The FindBoost module is removed.  Run \"cmake\n",
            "  --help-policy CMP0167\" for policy details.  Use the cmake_policy command to\n",
            "  set the policy and suppress this warning.\n",
            "\n",
            "This warning is for project developers.  Use -Wno-dev to suppress it.\n",
            "\u001b[0m\n",
            "-- Found Boost: /usr/lib/x86_64-linux-gnu/cmake/Boost-1.74.0/BoostConfig.cmake (found suitable version \"1.74.0\", minimum required is \"1.41.0\") found components: program_options system thread unit_test_framework\n",
            "-- Found Threads: TRUE\n",
            "-- Found ZLIB: /usr/lib/x86_64-linux-gnu/libz.so (found version \"1.2.11\")\n",
            "-- Found BZip2: /usr/lib/x86_64-linux-gnu/libbz2.so (found version \"1.0.8\")\n",
            "-- Looking for BZ2_bzCompressInit\n",
            "-- Looking for BZ2_bzCompressInit - found\n",
            "-- Looking for lzma_auto_decoder in /usr/lib/x86_64-linux-gnu/liblzma.so\n",
            "-- Looking for lzma_auto_decoder in /usr/lib/x86_64-linux-gnu/liblzma.so - found\n",
            "-- Looking for lzma_easy_encoder in /usr/lib/x86_64-linux-gnu/liblzma.so\n",
            "-- Looking for lzma_easy_encoder in /usr/lib/x86_64-linux-gnu/liblzma.so - found\n",
            "-- Looking for lzma_lzma_preset in /usr/lib/x86_64-linux-gnu/liblzma.so\n",
            "-- Looking for lzma_lzma_preset in /usr/lib/x86_64-linux-gnu/liblzma.so - found\n",
            "-- Found LibLZMA: /usr/lib/x86_64-linux-gnu/liblzma.so (found version \"5.2.5\")\n",
            "-- Looking for clock_gettime in rt\n",
            "-- Looking for clock_gettime in rt - found\n",
            "-- Configuring done (2.4s)\n",
            "-- Generating done (0.1s)\n",
            "-- Build files have been written to: /content/kenlm/build\n",
            "[  2%] \u001b[32mBuilding CXX object util/CMakeFiles/kenlm_util.dir/double-conversion/bignum.cc.o\u001b[0m\n",
            "[  2%] \u001b[32mBuilding CXX object util/CMakeFiles/kenlm_util.dir/double-conversion/bignum-dtoa.cc.o\u001b[0m\n",
            "[  3%] \u001b[32mBuilding CXX object util/CMakeFiles/kenlm_util.dir/double-conversion/cached-powers.cc.o\u001b[0m\n",
            "[  5%] \u001b[32mBuilding CXX object util/CMakeFiles/kenlm_util.dir/double-conversion/fast-dtoa.cc.o\u001b[0m\n",
            "[  6%] \u001b[32mBuilding CXX object util/CMakeFiles/kenlm_util.dir/double-conversion/fixed-dtoa.cc.o\u001b[0m\n",
            "[  7%] \u001b[32mBuilding CXX object util/CMakeFiles/kenlm_util.dir/double-conversion/strtod.cc.o\u001b[0m\n",
            "[  8%] \u001b[32mBuilding CXX object util/CMakeFiles/kenlm_util.dir/double-conversion/double-to-string.cc.o\u001b[0m\n",
            "[ 10%] \u001b[32mBuilding CXX object util/CMakeFiles/kenlm_util.dir/double-conversion/string-to-double.cc.o\u001b[0m\n",
            "[ 11%] \u001b[32mBuilding CXX object util/CMakeFiles/kenlm_util.dir/stream/chain.cc.o\u001b[0m\n",
            "[ 12%] \u001b[32mBuilding CXX object util/CMakeFiles/kenlm_util.dir/stream/count_records.cc.o\u001b[0m\n",
            "[ 13%] \u001b[32mBuilding CXX object util/CMakeFiles/kenlm_util.dir/stream/io.cc.o\u001b[0m\n",
            "[ 15%] \u001b[32mBuilding CXX object util/CMakeFiles/kenlm_util.dir/stream/line_input.cc.o\u001b[0m\n",
            "[ 16%] \u001b[32mBuilding CXX object util/CMakeFiles/kenlm_util.dir/stream/multi_progress.cc.o\u001b[0m\n",
            "[ 17%] \u001b[32mBuilding CXX object util/CMakeFiles/kenlm_util.dir/stream/rewindable_stream.cc.o\u001b[0m\n",
            "[ 18%] \u001b[32mBuilding CXX object util/CMakeFiles/kenlm_util.dir/bit_packing.cc.o\u001b[0m\n",
            "[ 20%] \u001b[32mBuilding CXX object util/CMakeFiles/kenlm_util.dir/ersatz_progress.cc.o\u001b[0m\n",
            "[ 21%] \u001b[32mBuilding CXX object util/CMakeFiles/kenlm_util.dir/exception.cc.o\u001b[0m\n",
            "[ 22%] \u001b[32mBuilding CXX object util/CMakeFiles/kenlm_util.dir/file.cc.o\u001b[0m\n",
            "[ 23%] \u001b[32mBuilding CXX object util/CMakeFiles/kenlm_util.dir/file_piece.cc.o\u001b[0m\n",
            "[ 25%] \u001b[32mBuilding CXX object util/CMakeFiles/kenlm_util.dir/float_to_string.cc.o\u001b[0m\n",
            "[ 26%] \u001b[32mBuilding CXX object util/CMakeFiles/kenlm_util.dir/integer_to_string.cc.o\u001b[0m\n",
            "[ 27%] \u001b[32mBuilding CXX object util/CMakeFiles/kenlm_util.dir/mmap.cc.o\u001b[0m\n",
            "[ 28%] \u001b[32mBuilding CXX object util/CMakeFiles/kenlm_util.dir/murmur_hash.cc.o\u001b[0m\n",
            "[ 30%] \u001b[32mBuilding CXX object util/CMakeFiles/kenlm_util.dir/parallel_read.cc.o\u001b[0m\n",
            "[ 31%] \u001b[32mBuilding CXX object util/CMakeFiles/kenlm_util.dir/pool.cc.o\u001b[0m\n",
            "[ 32%] \u001b[32mBuilding CXX object util/CMakeFiles/kenlm_util.dir/read_compressed.cc.o\u001b[0m\n",
            "[ 33%] \u001b[32mBuilding CXX object util/CMakeFiles/kenlm_util.dir/scoped.cc.o\u001b[0m\n",
            "[ 35%] \u001b[32mBuilding CXX object util/CMakeFiles/kenlm_util.dir/spaces.cc.o\u001b[0m\n",
            "[ 36%] \u001b[32mBuilding CXX object util/CMakeFiles/kenlm_util.dir/string_piece.cc.o\u001b[0m\n",
            "[ 37%] \u001b[32mBuilding CXX object util/CMakeFiles/kenlm_util.dir/usage.cc.o\u001b[0m\n",
            "[ 38%] \u001b[32m\u001b[1mLinking CXX static library ../lib/libkenlm_util.a\u001b[0m\n",
            "[ 38%] Built target kenlm_util\n",
            "[ 40%] \u001b[32mBuilding CXX object lm/CMakeFiles/kenlm.dir/bhiksha.cc.o\u001b[0m\n",
            "[ 41%] \u001b[32mBuilding CXX object util/CMakeFiles/probing_hash_table_benchmark.dir/probing_hash_table_benchmark_main.cc.o\u001b[0m\n",
            "[ 42%] \u001b[32mBuilding CXX object lm/CMakeFiles/kenlm.dir/binary_format.cc.o\u001b[0m\n",
            "[ 43%] \u001b[32mBuilding CXX object lm/CMakeFiles/kenlm.dir/config.cc.o\u001b[0m\n",
            "[ 45%] \u001b[32mBuilding CXX object lm/CMakeFiles/kenlm.dir/lm_exception.cc.o\u001b[0m\n",
            "[ 46%] \u001b[32mBuilding CXX object lm/CMakeFiles/kenlm.dir/model.cc.o\u001b[0m\n",
            "[ 47%] \u001b[32mBuilding CXX object lm/CMakeFiles/kenlm.dir/quantize.cc.o\u001b[0m\n",
            "[ 48%] \u001b[32mBuilding CXX object lm/CMakeFiles/kenlm.dir/read_arpa.cc.o\u001b[0m\n",
            "[ 50%] \u001b[32m\u001b[1mLinking CXX executable ../bin/probing_hash_table_benchmark\u001b[0m\n",
            "[ 50%] Built target probing_hash_table_benchmark\n",
            "[ 51%] \u001b[32mBuilding CXX object lm/filter/CMakeFiles/kenlm_filter.dir/arpa_io.cc.o\u001b[0m\n",
            "[ 52%] \u001b[32mBuilding CXX object lm/CMakeFiles/kenlm.dir/search_hashed.cc.o\u001b[0m\n",
            "[ 53%] \u001b[32mBuilding CXX object lm/filter/CMakeFiles/kenlm_filter.dir/phrase.cc.o\u001b[0m\n",
            "[ 55%] \u001b[32mBuilding CXX object lm/CMakeFiles/kenlm.dir/search_trie.cc.o\u001b[0m\n",
            "[ 56%] \u001b[32mBuilding CXX object lm/filter/CMakeFiles/kenlm_filter.dir/vocab.cc.o\u001b[0m\n",
            "[ 57%] \u001b[32m\u001b[1mLinking CXX static library ../../lib/libkenlm_filter.a\u001b[0m\n",
            "[ 57%] Built target kenlm_filter\n",
            "[ 58%] \u001b[32mBuilding CXX object lm/CMakeFiles/kenlm.dir/sizes.cc.o\u001b[0m\n",
            "[ 60%] \u001b[32mBuilding CXX object lm/CMakeFiles/kenlm.dir/trie.cc.o\u001b[0m\n",
            "[ 61%] \u001b[32mBuilding CXX object lm/CMakeFiles/kenlm.dir/trie_sort.cc.o\u001b[0m\n",
            "[ 62%] \u001b[32mBuilding CXX object lm/CMakeFiles/kenlm.dir/value_build.cc.o\u001b[0m\n",
            "[ 63%] \u001b[32mBuilding CXX object lm/CMakeFiles/kenlm.dir/virtual_interface.cc.o\u001b[0m\n",
            "[ 65%] \u001b[32mBuilding CXX object lm/CMakeFiles/kenlm.dir/vocab.cc.o\u001b[0m\n",
            "[ 66%] \u001b[32mBuilding CXX object lm/CMakeFiles/kenlm.dir/common/model_buffer.cc.o\u001b[0m\n",
            "[ 67%] \u001b[32mBuilding CXX object lm/CMakeFiles/kenlm.dir/common/print.cc.o\u001b[0m\n",
            "[ 68%] \u001b[32mBuilding CXX object lm/CMakeFiles/kenlm.dir/common/renumber.cc.o\u001b[0m\n",
            "[ 70%] \u001b[32mBuilding CXX object lm/CMakeFiles/kenlm.dir/common/size_option.cc.o\u001b[0m\n",
            "[ 71%] \u001b[32m\u001b[1mLinking CXX static library ../lib/libkenlm.a\u001b[0m\n",
            "[ 71%] Built target kenlm\n",
            "[ 73%] \u001b[32mBuilding CXX object lm/CMakeFiles/fragment.dir/fragment_main.cc.o\u001b[0m\n",
            "[ 73%] \u001b[32mBuilding CXX object lm/CMakeFiles/query.dir/query_main.cc.o\u001b[0m\n",
            "[ 75%] \u001b[32m\u001b[1mLinking CXX executable ../bin/fragment\u001b[0m\n",
            "[ 75%] Built target fragment\n",
            "[ 76%] \u001b[32mBuilding CXX object lm/CMakeFiles/build_binary.dir/build_binary_main.cc.o\u001b[0m\n",
            "[ 77%] \u001b[32m\u001b[1mLinking CXX executable ../bin/query\u001b[0m\n",
            "[ 77%] Built target query\n",
            "[ 78%] \u001b[32mBuilding CXX object lm/CMakeFiles/kenlm_benchmark.dir/kenlm_benchmark_main.cc.o\u001b[0m\n",
            "[ 80%] \u001b[32m\u001b[1mLinking CXX executable ../bin/build_binary\u001b[0m\n",
            "[ 80%] Built target build_binary\n",
            "[ 81%] \u001b[32mBuilding CXX object lm/builder/CMakeFiles/kenlm_builder.dir/adjust_counts.cc.o\u001b[0m\n",
            "[ 82%] \u001b[32mBuilding CXX object lm/builder/CMakeFiles/kenlm_builder.dir/corpus_count.cc.o\u001b[0m\n",
            "[ 83%] \u001b[32mBuilding CXX object lm/builder/CMakeFiles/kenlm_builder.dir/initial_probabilities.cc.o\u001b[0m\n",
            "[ 85%] \u001b[32mBuilding CXX object lm/builder/CMakeFiles/kenlm_builder.dir/interpolate.cc.o\u001b[0m\n",
            "[ 86%] \u001b[32m\u001b[1mLinking CXX executable ../bin/kenlm_benchmark\u001b[0m\n",
            "[ 86%] Built target kenlm_benchmark\n",
            "[ 87%] \u001b[32mBuilding CXX object lm/filter/CMakeFiles/filter.dir/filter_main.cc.o\u001b[0m\n",
            "[ 88%] \u001b[32mBuilding CXX object lm/builder/CMakeFiles/kenlm_builder.dir/output.cc.o\u001b[0m\n",
            "[ 90%] \u001b[32mBuilding CXX object lm/builder/CMakeFiles/kenlm_builder.dir/pipeline.cc.o\u001b[0m\n",
            "[ 91%] \u001b[32m\u001b[1mLinking CXX executable ../../bin/filter\u001b[0m\n",
            "[ 91%] Built target filter\n",
            "[ 92%] \u001b[32mBuilding CXX object lm/filter/CMakeFiles/phrase_table_vocab.dir/phrase_table_vocab_main.cc.o\u001b[0m\n",
            "[ 93%] \u001b[32m\u001b[1mLinking CXX static library ../../lib/libkenlm_builder.a\u001b[0m\n",
            "[ 93%] Built target kenlm_builder\n",
            "[ 95%] \u001b[32mBuilding CXX object lm/builder/CMakeFiles/lmplz.dir/lmplz_main.cc.o\u001b[0m\n",
            "[ 96%] \u001b[32m\u001b[1mLinking CXX executable ../../bin/phrase_table_vocab\u001b[0m\n",
            "[ 96%] Built target phrase_table_vocab\n",
            "[ 97%] \u001b[32mBuilding CXX object lm/builder/CMakeFiles/count_ngrams.dir/count_ngrams_main.cc.o\u001b[0m\n",
            "[ 98%] \u001b[32m\u001b[1mLinking CXX executable ../../bin/lmplz\u001b[0m\n",
            "[ 98%] Built target lmplz\n",
            "[100%] \u001b[32m\u001b[1mLinking CXX executable ../../bin/count_ngrams\u001b[0m\n",
            "[100%] Built target count_ngrams\n"
          ]
        }
      ]
    },
    {
      "cell_type": "code",
      "source": [
        "# Read Chhattisgarhi text from a file\n",
        "with open('totalhalbi.txt', 'r', encoding='utf-8') as file:\n",
        "    totalsadri = file.read()\n",
        "\n",
        "def char_tokenize(text):\n",
        "    return \" \".join(text.replace(\" \", \"_\"))  # Replace spaces with \"_\"\n",
        "\n",
        "\n",
        "# Open the file, tokenize character-wise, and save it\n",
        "output_file = \"halbi_char_tokenized.txt\"\n",
        "\n",
        "with open('totalhalbi.txt', \"r\", encoding=\"utf-8\") as infile, open(output_file, \"w\", encoding=\"utf-8\") as outfile:\n",
        "    for line in infile:\n",
        "        tokenized_line = char_tokenize(line.strip())  # Tokenize line\n",
        "        outfile.write(tokenized_line + \"\\n\")  # Write tokenized text\n",
        "\n",
        "print(f\"Character-tokenized text saved to: {output_file}\")\n"
      ],
      "metadata": {
        "colab": {
          "base_uri": "https://localhost:8080/"
        },
        "id": "OPaUBqW9sPKu",
        "outputId": "854eacc7-f55e-43e3-98f6-9c89a3b7ebb6"
      },
      "execution_count": 5,
      "outputs": [
        {
          "output_type": "stream",
          "name": "stdout",
          "text": [
            "Character-tokenized text saved to: halbi_char_tokenized.txt\n"
          ]
        }
      ]
    },
    {
      "cell_type": "code",
      "source": [
        "!kenlm/build/bin/lmplz --discount_fallback -o 5 <halbi_char_tokenized.txt > halbi.arpa"
      ],
      "metadata": {
        "colab": {
          "base_uri": "https://localhost:8080/"
        },
        "id": "uhc0eatZskDO",
        "outputId": "68922c8e-b22a-4605-9e42-cdd5acd44e16"
      },
      "execution_count": 6,
      "outputs": [
        {
          "output_type": "stream",
          "name": "stdout",
          "text": [
            "=== 1/5 Counting and sorting n-grams ===\n",
            "Reading /content/halbi_char_tokenized.txt\n",
            "----5---10---15---20---25---30---35---40---45---50---55---60---65---70---75---80---85---90---95--100\n",
            "****************************************************************************************************\n",
            "Unigram tokens 328456 types 161\n",
            "=== 2/5 Calculating and sorting adjusted counts ===\n",
            "Chain sizes: 1:1932 2:1062199232 3:1991623680 4:3186597888 5:4647121920\n",
            "Statistics:\n",
            "1 161 D1=0.386364 D2=1.52778 D3+=2.71901\n",
            "2 2644 D1=0.511059 D2=1.29912 D3+=1.27517\n",
            "3 16397 D1=0.604585 D2=1.12945 D3+=1.62618\n",
            "4 47199 D1=0.685744 D2=1.1907 D3+=1.46521\n",
            "5 91630 D1=0.629333 D2=1.18959 D3+=1.41252\n",
            "Memory estimate for binary LM:\n",
            "type      kB\n",
            "probing 3167 assuming -p 1.5\n",
            "probing 3556 assuming -r models -p 1.5\n",
            "trie    1149 without quantization\n",
            "trie     518 assuming -q 8 -b 8 quantization \n",
            "trie    1079 assuming -a 22 array pointer compression\n",
            "trie     449 assuming -a 22 -q 8 -b 8 array pointer compression and quantization\n",
            "=== 3/5 Calculating and sorting initial probabilities ===\n",
            "Chain sizes: 1:1932 2:42304 3:327940 4:1132776 5:2565640\n",
            "----5---10---15---20---25---30---35---40---45---50---55---60---65---70---75---80---85---90---95--100\n",
            "####################################################################################################\n",
            "=== 4/5 Calculating and writing order-interpolated probabilities ===\n",
            "Chain sizes: 1:1932 2:42304 3:327940 4:1132776 5:2565640\n",
            "----5---10---15---20---25---30---35---40---45---50---55---60---65---70---75---80---85---90---95--100\n",
            "####################################################################################################\n",
            "=== 5/5 Writing ARPA model ===\n",
            "----5---10---15---20---25---30---35---40---45---50---55---60---65---70---75---80---85---90---95--100\n",
            "****************************************************************************************************\n",
            "Name:lmplz\tVmPeak:10804260 kB\tVmRSS:10260 kB\tRSSMax:1882364 kB\tuser:0.840561\tsys:3.78633\tCPU:4.62708\treal:4.66192\n"
          ]
        }
      ]
    },
    {
      "cell_type": "code",
      "source": [
        "!pip install https://github.com/kpu/kenlm/archive/master.zip\n"
      ],
      "metadata": {
        "colab": {
          "base_uri": "https://localhost:8080/"
        },
        "id": "vhHjbmVespav",
        "outputId": "9b73cde6-87cd-4f06-c65e-105fef8a5cca"
      },
      "execution_count": 13,
      "outputs": [
        {
          "output_type": "stream",
          "name": "stdout",
          "text": [
            "Collecting https://github.com/kpu/kenlm/archive/master.zip\n",
            "  Downloading https://github.com/kpu/kenlm/archive/master.zip (553 kB)\n",
            "\u001b[2K     \u001b[90m━━━━━━━━━━━━━━━━━━━━━━━━━━━━━━━━━━━━━━━━\u001b[0m \u001b[32m553.6/553.6 kB\u001b[0m \u001b[31m1.8 MB/s\u001b[0m eta \u001b[36m0:00:00\u001b[0m\n",
            "\u001b[?25h  Installing build dependencies ... \u001b[?25l\u001b[?25hdone\n",
            "  Getting requirements to build wheel ... \u001b[?25l\u001b[?25hdone\n",
            "  Preparing metadata (pyproject.toml) ... \u001b[?25l\u001b[?25hdone\n",
            "Building wheels for collected packages: kenlm\n",
            "  Building wheel for kenlm (pyproject.toml) ... \u001b[?25l\u001b[?25hdone\n",
            "  Created wheel for kenlm: filename=kenlm-0.2.0-cp311-cp311-linux_x86_64.whl size=3186613 sha256=d1ca2f1beaa6ff05fa3aa124ada6d6852ed8dc0b892c35e00c40dd63ff61e49b\n",
            "  Stored in directory: /tmp/pip-ephem-wheel-cache-kcmj56s4/wheels/4e/ca/6a/e5da175b1396483f6f410cdb4cfe8bc8fa5e12088e91d60413\n",
            "Successfully built kenlm\n",
            "Installing collected packages: kenlm\n",
            "Successfully installed kenlm-0.2.0\n"
          ]
        }
      ]
    },
    {
      "cell_type": "code",
      "source": [
        "!kenlm/build/bin/query -v summary halbi.arpa <totalhalbi.txt"
      ],
      "metadata": {
        "colab": {
          "base_uri": "https://localhost:8080/"
        },
        "id": "fWmIX99csr9l",
        "outputId": "827bb70f-d5bf-471d-d5d8-e4ef2c74b171"
      },
      "execution_count": 14,
      "outputs": [
        {
          "output_type": "stream",
          "name": "stdout",
          "text": [
            "Loading the LM will be faster if you build a binary file.\n",
            "Reading halbi.arpa\n",
            "----5---10---15---20---25---30---35---40---45---50---55---60---65---70---75---80---85---90---95--100\n",
            "****************************************************************************************************\n",
            "Perplexity including OOVs:\t1526.5653312608472\n",
            "Perplexity excluding OOVs:\t218.02921998056544\n",
            "OOVs:\t64346\n",
            "Tokens:\t70379\n",
            "Name:query\tVmPeak:13268 kB\tVmRSS:4632 kB\tRSSMax:8408 kB\tuser:0.123708\tsys:0.007854\tCPU:0.131634\treal:0.288742\n"
          ]
        }
      ]
    },
    {
      "cell_type": "code",
      "source": [
        "import kenlm\n",
        "\n",
        "def calculate_cross_entropy(model_path, text):\n",
        "    # Load the KenLM model\n",
        "    model = kenlm.Model(model_path)\n",
        "\n",
        "    # Tokenize the input text\n",
        "    words = text.split()\n",
        "\n",
        "    # Calculate the log probability of the sequence\n",
        "    log_prob = model.score(' '.join(words), bos=True, eos=True)\n",
        "\n",
        "    # Number of words\n",
        "    num_words = len(words)\n",
        "\n",
        "    # Cross-entropy calculation\n",
        "    cross_entropy = -log_prob / num_words\n",
        "\n",
        "    return cross_entropy\n",
        "\n",
        "# Example usage\n",
        "model_path = '/content/halbi.arpa'\n",
        "file_path = '/content/totalhalbi.txt'\n",
        "\n",
        "# Read text from file\n",
        "with open(file_path, 'r', encoding='utf-8') as file:\n",
        "    text = file.read()\n",
        "\n",
        "entropy = calculate_cross_entropy(model_path, text)\n",
        "print(f'Cross-Entropy of language: {entropy}')\n"
      ],
      "metadata": {
        "colab": {
          "base_uri": "https://localhost:8080/"
        },
        "id": "Nyz52_uosuhY",
        "outputId": "1cad9da7-cf41-439f-b478-ac4cc8bda1ca"
      },
      "execution_count": 15,
      "outputs": [
        {
          "output_type": "stream",
          "name": "stdout",
          "text": [
            "Cross-Entropy of language: 3.1128229761941144\n"
          ]
        }
      ]
    }
  ]
}