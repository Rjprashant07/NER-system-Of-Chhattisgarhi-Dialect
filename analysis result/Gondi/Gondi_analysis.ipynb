{
  "nbformat": 4,
  "nbformat_minor": 0,
  "metadata": {
    "colab": {
      "provenance": []
    },
    "kernelspec": {
      "name": "python3",
      "display_name": "Python 3"
    },
    "language_info": {
      "name": "python"
    }
  },
  "cells": [
    {
      "cell_type": "code",
      "execution_count": 2,
      "metadata": {
        "colab": {
          "base_uri": "https://localhost:8080/"
        },
        "id": "y193fWYbdJkA",
        "outputId": "3a99a92c-830a-4a7e-d096-819bb13a1f3d"
      },
      "outputs": [
        {
          "output_type": "stream",
          "name": "stdout",
          "text": [
            "Requirement already satisfied: nltk in /usr/local/lib/python3.11/dist-packages (3.9.1)\n",
            "Requirement already satisfied: click in /usr/local/lib/python3.11/dist-packages (from nltk) (8.1.8)\n",
            "Requirement already satisfied: joblib in /usr/local/lib/python3.11/dist-packages (from nltk) (1.4.2)\n",
            "Requirement already satisfied: regex>=2021.8.3 in /usr/local/lib/python3.11/dist-packages (from nltk) (2024.11.6)\n",
            "Requirement already satisfied: tqdm in /usr/local/lib/python3.11/dist-packages (from nltk) (4.67.1)\n"
          ]
        },
        {
          "output_type": "stream",
          "name": "stderr",
          "text": [
            "[nltk_data] Downloading package punkt_tab to /root/nltk_data...\n",
            "[nltk_data]   Unzipping tokenizers/punkt_tab.zip.\n"
          ]
        },
        {
          "output_type": "stream",
          "name": "stdout",
          "text": [
            "Collecting morfessor\n",
            "  Downloading Morfessor-2.0.6-py3-none-any.whl.metadata (628 bytes)\n",
            "Downloading Morfessor-2.0.6-py3-none-any.whl (35 kB)\n",
            "Installing collected packages: morfessor\n",
            "Successfully installed morfessor-2.0.6\n"
          ]
        }
      ],
      "source": [
        "#pip uninstall nltk\n",
        "!pip install nltk\n",
        "import nltk\n",
        "nltk.download('punkt_tab')\n",
        "!pip install morfessor\n",
        "import numpy as np"
      ]
    },
    {
      "cell_type": "code",
      "source": [
        "import re\n",
        "import math\n",
        "from collections import Counter\n",
        "import matplotlib.pyplot as plt\n",
        "from nltk.tokenize import word_tokenize, sent_tokenize\n",
        "import morfessor\n",
        "from morfessor.io import MorfessorIO\n",
        "from morfessor.baseline import BaselineModel\n",
        "\n",
        "# Read Chhattisgarhi text from a file\n",
        "with open('totalgondi.txt', 'r', encoding='utf-8') as file:\n",
        "   totalgondi = file.read()\n",
        "\n",
        "# Preprocess the text\n",
        "def preprocess_text(text):\n",
        "    # Remove Hindi full stop (।) and double full stop (॥)\n",
        "    text = re.sub(r'[\\u0964\\u0965]', '', text)\n",
        "    # Remove other punctuation marks but keep words and spaces\n",
        "    text = re.sub(r'[^\\w\\s]', '', text)\n",
        "    return text\n",
        "\n",
        "# Tokenize the text into words using NLTK\n",
        "def tokenize(text):\n",
        "    return word_tokenize(text)\n",
        "\n",
        "# Count the number of sentences\n",
        "def count_sentences(text):\n",
        "    sentence_delimiters = r'[\\u0964\\u0965.!।|?]'\n",
        "    sentences = re.split(sentence_delimiters, text)\n",
        "    sentences = [s.strip() for s in sentences if s.strip()]\n",
        "    return len(sentences)\n",
        "\n",
        "# Calculate Type-Token Ratio (TTR)\n",
        "def calculate_ttr(tokens):\n",
        "    unique_tokens = set(tokens)\n",
        "    return len(unique_tokens) / len(tokens) if tokens else 0\n",
        "\n",
        "# Calculate Moving Average TTR (MATTR)\n",
        "def calculate_mattr(tokens, window_size=500):\n",
        "    if len(tokens) < window_size:\n",
        "        return calculate_ttr(tokens)\n",
        "    mattr_values = [calculate_ttr(tokens[i:i + window_size]) for i in range(len(tokens) - window_size + 1)]\n",
        "    return sum(mattr_values) / len(mattr_values)\n",
        "\n",
        "# Calculate entropy\n",
        "def calculate_entropy(frequencies, total_tokens):\n",
        "    entropy = -sum((count / total_tokens) * math.log2(count / total_tokens) for count in frequencies.values())\n",
        "    return entropy\n",
        "\n",
        "# Perform frequency analysis\n",
        "def frequency_analysis(words):\n",
        "    return Counter(words)\n",
        "\n",
        "# Count rare types (unique words appearing only once)\n",
        "def count_rare_types(frequencies):\n",
        "    return sum(1 for count in frequencies.values() if count == 1)\n",
        "\n",
        "# Function to calculate relative frequency and cumulative coverage of top 10 morphemes\n",
        "def calculate_relative_and_cumulative(frequencies):\n",
        "    total_count = sum(frequencies.values())\n",
        "    sorted_frequencies = frequencies.most_common(10)\n",
        "\n",
        "    relative_frequencies = {word: count / total_count for word, count in sorted_frequencies}\n",
        "    cumulative_coverage = []\n",
        "    cumulative_sum = 0\n",
        "    for word, count in sorted_frequencies:\n",
        "        cumulative_sum += count / total_count\n",
        "        cumulative_coverage.append((word, cumulative_sum))\n",
        "\n",
        "    return relative_frequencies, cumulative_coverage\n",
        "\n",
        "    # Compute and plot Zipf's Law\n",
        "def calculate_zipfs_law(frequencies):\n",
        "    sorted_frequencies = frequencies.most_common()\n",
        "    ranks = np.arange(1, len(sorted_frequencies) + 1)\n",
        "    word_frequencies = np.array([freq for _, freq in sorted_frequencies])\n",
        "    return ranks, word_frequencies\n",
        "\n",
        "def plot_zipfs_law(ranks, frequencies):\n",
        "    plt.figure(figsize=(10, 6))\n",
        "    plt.loglog(ranks, frequencies, marker=\"o\", linestyle=\"none\", markersize=4, label=\"Actual Data\")\n",
        "\n",
        "    # Fit a Zipfian curve (linear fit on log-log scale)\n",
        "    log_ranks = np.log(ranks)\n",
        "    log_frequencies = np.log(frequencies)\n",
        "    slope, intercept = np.polyfit(log_ranks, log_frequencies, 1)\n",
        "    predicted_frequencies = np.exp(intercept) * ranks ** slope\n",
        "\n",
        "    plt.loglog(ranks, predicted_frequencies, linestyle=\"dashed\", color=\"red\", label=f\"Fit: slope={slope:.2f}\")\n",
        "    plt.xlabel(\"Rank (log scale)\")\n",
        "    plt.ylabel(\"Frequency (log scale)\")\n",
        "    plt.title(\"Zipf's Law: Word Frequency vs Rank\")\n",
        "    plt.legend()\n",
        "    plt.grid(True)\n",
        "    plt.show()\n",
        "\n",
        "    print(f\"Estimated Zipf's Law exponent: {slope:.2f}\")\n",
        "\n",
        "\n",
        "# Load the trained Morfessor model\n",
        "def load_morfessor_model(model_path):\n",
        "    io = MorfessorIO()\n",
        "    return io.read_binary_model_file(model_path)\n",
        "\n",
        "# Perform morphological analysis with Morfessor\n",
        "def analyze_morphology_with_morfessor(model, tokens):\n",
        "    # Join morphemes with a \"+\" sign\n",
        "    morphed_tokens = []\n",
        "    for token in tokens:\n",
        "        morphed = model.viterbi_segment(token)[0]\n",
        "        morphed_with_space = ' '.join(morphed)  # Join morphemes with '+'\n",
        "        morphed_tokens.append(morphed_with_space)\n",
        "    return morphed_tokens\n",
        "\n",
        "# Main analysis pipeline\n",
        "preprocessed_text = preprocess_text(totalgondi)\n",
        "tokens = tokenize(preprocessed_text)\n",
        "frequencies = frequency_analysis(tokens)\n",
        "rare_type_count = count_rare_types(frequencies)\n",
        "ttr = calculate_ttr(tokens)\n",
        "sentence_count = count_sentences(totalbaiagani)\n",
        "mattr = calculate_mattr(tokens)\n",
        "entropy = calculate_entropy(frequencies, len(tokens))\n",
        "\n",
        "# Load the pre-trained Morfessor model\n",
        "model_path = 'gondi.bin'\n",
        "morfessor_model = load_morfessor_model(model_path)\n",
        "\n",
        "# Perform morphological analysis with Morfessor\n",
        "root_words_morfessor = analyze_morphology_with_morfessor(morfessor_model, tokens)\n",
        "\n",
        "# Calculate relative frequency and cumulative coverage of top 10 morphemes\n",
        "relative_frequencies, cumulative_coverage = calculate_relative_and_cumulative(frequencies)\n",
        "\n",
        "# Calculate and plot Zipf's Law\n",
        "ranks, word_frequencies = calculate_zipfs_law(frequencies)\n",
        "plot_zipfs_law(ranks, word_frequencies)\n",
        "\n",
        "# Display results\n",
        "print(\"Total Words:\", len(tokens))\n",
        "print(\"Unique Words:\", len(set(tokens)))\n",
        "print(\"Type-Token Ratio (TTR):\", ttr)\n",
        "print(\"Moving Average TTR (MATTR):\", mattr)\n",
        "print(\"Total Rare Types:\", rare_type_count)\n",
        "print(\"Entropy:\", entropy)\n",
        "print(\"Most Common Words:\", frequencies.most_common(10))\n",
        "print(\"Root Words (Morphed using Morfessor):\", root_words_morfessor[:1000])\n",
        "print(\"Total no. of sentences:\", sentence_count)\n",
        "print(\"Relative Frequencies of Top 10 Morphemes:\", relative_frequencies)\n",
        "print(\"Cumulative Coverage of Top 10 Morphemes:\", cumulative_coverage)\n"
      ],
      "metadata": {
        "colab": {
          "base_uri": "https://localhost:8080/",
          "height": 797
        },
        "id": "MOf9BJERdPlx",
        "outputId": "a9735305-94dd-4185-d4df-83f90ed6c997"
      },
      "execution_count": 4,
      "outputs": [
        {
          "output_type": "display_data",
          "data": {
            "text/plain": [
              "<Figure size 1000x600 with 1 Axes>"
            ],
            "image/png": "[encoded data removed]"
          },
          "metadata": {}
        },
        {
          "output_type": "stream",
          "name": "stdout",
          "text": [
            "Estimated Zipf's Law exponent: -0.90\n",
            "Total Words: 10145\n",
            "Unique Words: 2707\n",
            "Type-Token Ratio (TTR): 0.2668309512074914\n",
            "Moving Average TTR (MATTR): 0.5402809454696206\n",
            "Total Rare Types: 1440\n",
            "Entropy: 10.136806675009982\n",
            "Most Common Words: [('त', 189), ('तन', 157), ('क', 108), ('ल', 107), ('तग', 86), ('कन', 72), ('अन', 68), ('म', 64), ('दन', 64), ('मज', 62)]\n",
            "Root Words (Morphed using Morfessor): ['ओणड', 'नय', 'पल ल', 'क ट ल', 'अ ड न', 'पट स', 'मत', 'अच ट', 'लग', 'कच त', 'मय ऊ', 'नय', 'पल ल', 'प द', 'त द', 'उद द', 'इद', 'आह', 'उ ड त', 'लग', 'ब ग', 'ट न', 'वत त', 'ब गय', 'बन र', 'इ लव', 'मन र', 'अद', 'लत', 'तन', 'द वत', 'वत', 'उ च ट', 'मद त', 'प द ल', 'नग', 'ट न', 'ओणड', 'उ प प', 'लग स', 'मन न', 'वत त', 'नई', 'पल ल', 'पछ', 'क तन म', 'मय ऊ', 'इ ज', 'क तत', 'अ य', 'नन', 'कन', 'च', 'च', 'इ ज', 'क त', 'नन', 'उ प प', 'क तत', 'नई', 'पल ल', 'प ग र', 'प द ल', 'तग', 'ऐव त', 'प ग र', 'तग', 'ओणड', 'पर जल', 'व स', 'उद द', 'मत', 'नई', 'पल ल', 'तन', 'पछ', 'क तत', 'ब ल र', 'न म', 'क त', 'मय ऊ', 'अ य', 'नन', 'कन', 'भननभनन', 'कय', 'नन', 'वणड', 'लग', 'वत', 'मय ऊ', 'त र इ', 'उ ट ल', 'ओणड', 'पणड', 'उद द', 'मत त', 'नई', 'पल ल', 'पणडत', 'पछ', 'क त', 'ब ल', 'न म', 'क त', 'मय ऊ', 'नन', 'कन', 'ट र र', 'ट र र', 'कय', 'नन', 'वणड', 'लग', 'वत त', 'मय ऊ', 'बन', 'क त र', 'मय ऊ', 'नन', 'क तन', 'मय ऊ', 'इ ड़ गम', 'कल म', 'मत त', 'नर कम', 'त', 'व ड़ द', 'सर', 'त ड़ य', 'गम म', 'मत त', 'ओणड', 'डव ल', 'त', 'पल ल', 'मद द', 'आड़ स', 'र गट', 'आस', 'न ड', 'म ड़', 'त', 'अ ड न', 'पट ट', 'मत त', 'इद', 'ऐड़ज', 'नर कम', 'व लय', 'लय', 'प ई स', 'मत त', 'जल', 'आलस', 'मत व', 'अच ट न', 'तन', 'कणड', 'न ड', 'म ड़', 'अ ड न', 'अड़ त', 'कणड', 'नह क', 'आलस', 'त र', 'आह', 'फटबल', 'आलस त र', 'तन', 'कर स', 'स ड न', 'उ ब ब म', 'प प ह', 'त तन', 'मन', 'पर क', 'उड़ व', 'एड़ज', 'डव ल', 'त', 'पल ल न', 'कल', 'द', 'व ग त', 'उक क', 'ब क क', 'आस', 'डव ल', 'पल ल', 'कय त', 'आड़', 'ओणड', 'म ड़', 'त', 'कर', 'दग', 'लग', 'व ड़ ग त', 'जल', 'कर', 'उर ग त', 'ऐड़ज', 'उ ब ब य', 'समझ म', 'अ तत', 'मन', 'पर क', 'उड़ व', 'एड़ज', 'डव ल', 'त', 'पल ल न', 'कल', 'द', 'व ग त', 'उक क', 'ब क क', 'आस', 'डव ल', 'पल ल', 'कय त', 'आड़', 'ओणड', 'म ड़', 'त', 'कर', 'दग', 'लग', 'व ड़ ग त', 'आलस त', 'आड़', 'मर र', 'अ ज', 'कईक', 'कन', 'मन न', 'क स', 'मर र', 'ऐतत', 'अर', 'इद', 'ब त', 'डव ल', 'पल ल', 'वणड', 'पर र', 'ऐसस लय', 'क त', 'र इत', 'ओणड', 'त व', 'वणड', 'ऐड़ज', 'द द ल', 'पर र', 'ऐसस', 'रणड', 'त व', 'मणड', 'त व', 'आड़', 'गट ट', 'गट ट', 'आय न', 'आ नर', 'डव ल', 'पल ल', 'तन', 'नक य', 'व ड़ क', 'वन र', 'जल', 'ऐड़ज', 'अव य', 'मज', 'कच च', 'आस', 'मत त', 'ओह', 'ब द', 'कच च', 'त', 'ट ड तन', 'बर', 'त व', 'पर र', 'ऐसस', 'ल न', 'मर र', 'लय', 'अर र', 'प ई त', 'आड़', 'म इत त', 'इद त', 'डव ल', 'पल ल', 'न ल', 'अड़ त', 'कर', 'वणड', 'उर ग त', 'च ट न', 'अ ग', 'फरर', 'गम', 'तग', 'ब त', 'कय नर', 'वत त र', 'आड़', 'डव ल', 'त', 'पल ल न', 'मणड', 'कय', 'र ई त र', 'कर', 'उर स', 'इत त', 'त ड़', 'दणडम', 'डव ल', 'पल ल', 'तन', 'नक य', 'व ड़ क', 'वन र', 'जल', 'ऐड़ज', 'अव य', 'मज', 'कच च', 'आस', 'मत त', 'ओह', 'ब द', 'कच च', 'त', 'ट ड तन', 'बर', 'त व', 'पर र', 'ऐसस', 'ल न', 'मर र', 'लय', 'अर र', 'प ई त', 'आड़', 'म इत त', 'इद त', 'डव ल', 'पल ल', 'न ल', 'अड़ त', 'कर', 'वणड', 'उर ग त', 'डव लत', 'पल ल', 'क तत जम', 'स म ड़', 'म', 'कन', 'आय', 'ईम', 'नन', 'इ ज', 'वत न', 'पर र', 'दग', 'ब त', 'कय नर', 'अ तत', 'पर क', 'डव', 'पल ल', 'वणड', 'अ ग', 'ट न', 'मर त', 'अद', 'आ लत ज क', 'मत क', 'नक य', 'दर क त', 'ओणड', 'र न', 'ड ड ड़', 'प तत', 'मत त', 'स ड़ त', 'स ग त', 'अद', 'द न ल', 'ग प प त', 'आ नर', 'उ म क', 'प तत', 'तन', 'स ग', 'अन न', 'तन', 'स ग', 'बन र', 'ब ड़', 'इ ज', 'कल व', 'मन ड', 'ऐन न', 'स ग', 'सब ड़', 'वर य', 'न ड़', 'तन', 'बन र', 'ब तय', 'इ जर', 'कल व', 'मन ड़', 'एन न', 'स ग', 'सब ड़', 'आ प त', 'त', 'मन ड़', 'ओणड', 'द न', 'त', 'म ट', 'र न', 'प तत', 'ऐन न', 'स ग', 'क लय त', 'आड़', 'क त', 'न म', 'न ट ड़', 'कन', 'आ प त', 'क त', 'इद', 'न ल ल', 'अ य', 'ऐन', 'क त', 'क ट', 'मन न', 'स ड ल', 'ज व', 'ब त व ड', 'म ट', 'अद', 'ग प प त', 'ओन ड', 'ऐन', 'मन र', 'अद', 'द न ल', 'त ड़स', 'मन र', 'बन', 'ट न', 'इद', 'म ड़ त', 'ऊ र र नर', 'बन ट न', 'अद', 'म ड़', 'तन', 'ऊ र र', 'नर', 'उ च क', 'त नर', 'आद', 'ऐसनर', 'आद', 'ऐसनर', 'ल ट म', 'स', 'ड त', 'ऐर', 'नह नर', 'आड़', 'ऐर', 'मन र', 'अव र', 'म व क', 'क व', 'ऐर', 'त', 'म हन र', 'म व', 'कन', 'स ग', 'वणड', 'नह', 'स न', 'ल', 'त रस न', 'ल', 'कन र', 'उ म क ड़', 'तन', 'स ग', 'वर र न ड़', 'नव', 'मन', 'नन', 'ब तय', 'वणड', 'क तन', 'र न', 'प तत', 'क त', 'डव ल', 'तन', 'स ग', 'कच च तन', 'ऐन', 'कवस', 'क तत', 'डव ल', 'तन', 'स ग', 'ब त', 'क तत', 'अद', 'नव', 'लव', 'द', 'म ख य', 'प द द ल', 'ब नय', 'अ त र', 'र न', 'प तत', 'क ट', 'अ त', 'अद', 'र', 'ड', 'तग', 'अ ज', 'मज त', 'ऐन', 'इ', 'आह', 'त ड़ सर', 'मत', 'र न', 'प तत', 'कशकन', 'म सर', 'स ड़', 'तग', 'न', 'ग त', 'एन', 'अपन', 'व ड़ क', 'त', 'मत त', 'प तत', 'स ड म', 'त ल', 'ल पय', 'न', 'ग सर', 'अ तत', 'इदम', 'र न', 'प तत', 'ऐन', 'त', 'स ड म', 'तन', 'कच च', 'र इत', 'ऐन', 'आ प त', 'आय', 'र ई त', 'अच ट', 'लव', 'द', 'स ड म', 'तन', 'उक नर', 'इद नर', 'उद नर', 'ब द द', 'उ व ट', 'कम', 'क व', 'र न', 'प तत', 'कच स', 'क', 'मत', 'ऐन', 'इद त', 'अच ट', 'र न', 'प तत', 'क तत', 'व ड़ क', 'वत त', 'प प', 'इ ज', 'ब ड़', 'कय त', 'र न', 'प तत', 'ऐन', 'न', 'कच च सर', 'मत त', 'ऐन', 'क ड़ त', 'क त', 'प तत', 'र न', 'प तत', 'र न', 'म प', 'कम', 'म प', 'कम', 'इ ज', 'बन न', 'क', 'आ प त', 'क वन', 'बन न', 'क', 'स ड ल', 'समझ म', 'अ य न', 'र न', 'प तत', 'आलस त', 'ऐन', 'तन', 'इ ज', 'बधद', 'वत', 'र न', 'प तत', 'स ड म', 'तन', 'द वत', 'प ई तत', 'आड़', 'क तत', 'ऐन', 'द द', 'ऐन', 'द द', 'वल म', 'अव र', 'अ त', 'ऐन', 'स ड म', 'ल हस', 'त लत', 'उह त', 'ग प', 'तग', 'ओणड', 'प कल', 'म ड़', 'मत', 'अद', 'म ड़', 'तग', 'नक य', 'द ब ब', 'प डव', 'मत', 'पड़ व', 'पय ल', 'अपन', 'स ड़', 'म ह क लय', 'पर स', 'मत', 'नर क', 'अ तक', 'अव', 'उ म क', 'प क ड़', 'मड', 'तग', 'मल न', 'ओणड़', 'द न', 'त', 'म ट', 'पर व', 'स ड़', 'म ह क लय', 'पर इत', 'स ड न', 'ऐड़य', 'अ ज', 'ओणड', 'स ड ल', 'पड़ व', 'क', 'त', 'उड़ ट', 'आह', 'उड़ ट', 'न ल', 'दग', 'ब च र', 'स ड़', 'फरर', 'न', 'म', 'द', 'उ म क', 'पड़', 'व', 'आह', 'उड़', 'मन त', 'अव', 'कन', 'न ल', 'तग', 'नक य', 'पड़ क', 'त द त', 'अव', 'उस त म', 'उस त म', 'द ड़', 'ड ग', 'र ई त', 'अच ट', 'ओणड', 'म स ल', 'मय त र', 'पर व', 'क त', 'कठट', 'कठट', 'इ ज', 'अ ग ग', 'अन म ट', 'ग प', 'त', 'इ च च र', 'पड़ क', 'ब ग ग', 'ट न', 'वत त', 'अव र', 'पड़', 'व', 'क त', 'ब गय', 'ट न', 'वणड़', 'व व', 'व ड़ ट', 'मन ल', 'सब ड़', 'पड़ क', 'त नद', 'कल', 'पर व', 'न ल', 'ड ग त', 'अव', 'पड़ क', 'त नद', 'मय त', 'जल', 'म स ल', 'पर व', 'अव', 'कन', 'स ग', 'अन', 'अद', 'ऐडय', 'तन', 'उड़ स', 'मत त', 'पड़ व', 'पट ट', 'प जन', 'पड़ क', 'कन', 'त तत', 'आड़', 'अव', 'पर य', 'म ह क', 'र इत', 'जल', 'पर य', 'पर व', 'अव', 'जल', 'तग', 'तणड', 'फसम', 'आस', 'मन', 'पर व', 'कय', 'र ई त', 'त व ट', 'त व ट', 'म म', 'जल', 'तग', 'फसम', 'अ त म', 'अच ट', 'ओणड', 'पड़ व', 'कई त', 'ओ', 'उड़ ट', 'अर र', 'अर', 'कन', 'ब ब त र', 'ओर', 'मन', 'कन', 'म कन', 'पय त', 'व य', 'र ई त र', 'म स ल', 'पड', 'व', 'क त र', 'म ड़', 'आलस म ट', 'सब ड', 'कल ई', 'लव', 'कम ट', 'जल', 'द न', 'प ई', 'स', 'पर य ट', 'उ म क', 'प डव', 'कल ई', 'लव', 'क तत', 'जल', 'स ड न', 'पर र', 'त दम', 'पड़ व', 'अव र', 'लव', 'क तत', 'इदम', 'प डव', 'जल', 'द न', 'प ई स', 'पर य', 'र ई त', 'म स ल', 'ब ढ', 'पड', 'व', 'मन न मन न', 'पर स', 'मन ड़', 'उ म क', 'पड़', 'व', 'तन', 'पर क', 'मत त', 'म स ल', 'ब ढ', 'पड़ व', 'अव', 'कन', 'प ई स', 'न', 'कय', 'ऐड़य', 'पर तत', 'ओर', 'ओणड़', 'कर क', 'मर क', 'लत', 'त', 'तह त र', 'ओर', 'क तत र', 'इ ग', 'ओणड़', 'उ प प', 'मद नर', 'ओर', 'नव', 'ग त', 'ओर', 'म कन', 'स हय त', 'क त र', 'इगय', 'ड गट', 'म स ल', 'पड़', 'व', 'उ प प', 'कर ग त र', 'उ प प', 'जल', 'द न', 'क द ई त', 'पर व', 'जल', 'द न', 'पड वल', 'मफ', 'त ल स', 'आड़', 'धनयवरद', 'इत त', 'न ड', 'नर द', 'कर स ड़', 'मणड़', 'आय मत', 'बधय', 'सक', 'वर', 'आड़', 'स ग त', 'न ड', 'न रख', 'तन', 'क', 'मणड़', 'दय', 'लय', 'झन ग ड़', 'म', 'अ तत', 'च त', 'म ग ल', 'आड़', 'स मर', 'वन ड', 'नई', 'इस ड़', 'क स', 'झन ग ड़', 'म', 'मन दर', 'सब ड़', 'प ख ड़', 'ड ड', 'तन', 'मज', 'मणड़', 'अ त ड़', 'ओड़', 'मणड', 'तग', 'ऐव दम ऐव दम', 'हय ल', 'नक त', 'सब ड़', 'उभय उभय', 'मणड', 'तग', 'ऐव', 'त ड़', 'सब ड़', 'हय ल', 'ब क त', 'नत त ड़', 'हय ल', 'न तन', 'क', 'सब ड़']\n",
            "Total no. of sentences: 1365\n",
            "Relative Frequencies of Top 10 Morphemes: {'त': 0.018629866929521934, 'तन': 0.01547560374568753, 'क': 0.010645638245441104, 'ल': 0.01054706752094628, 'तग': 0.008477082306554954, 'कन': 0.007097092163627403, 'अन': 0.006702809265648102, 'म': 0.006308526367668803, 'दन': 0.006308526367668803, 'मज': 0.006111384918679152}\n",
            "Cumulative Coverage of Top 10 Morphemes: [('त', 0.018629866929521934), ('तन', 0.034105470675209464), ('क', 0.04475110892065057), ('ल', 0.05529817644159685), ('तग', 0.0637752587481518), ('कन', 0.07087235091177921), ('अन', 0.07757516017742731), ('म', 0.08388368654509612), ('दन', 0.09019221291276493), ('मज', 0.09630359783144408)]\n"
          ]
        }
      ]
    },
    {
      "cell_type": "code",
      "source": [
        "# Analyze word length in terms of characters\n",
        "def analyze_word_length(tokens):\n",
        "    word_lengths = [len(word) for word in tokens]\n",
        "    length_counts = Counter(word_lengths)\n",
        "    return length_counts\n",
        "\n",
        "# Compute statistics for word length\n",
        "def compute_word_length_stats(word_lengths):\n",
        "    lengths = list(word_lengths.elements())\n",
        "    mean_length = np.mean(lengths)\n",
        "    median_length = np.median(lengths)\n",
        "    mode_length = max(word_lengths, key=word_lengths.get)\n",
        "    return mean_length, median_length, mode_length\n",
        "\n",
        "# Plot word length distribution\n",
        "def plot_word_length_distribution(word_lengths):\n",
        "    lengths, counts = zip(*sorted(word_lengths.items()))\n",
        "    plt.figure(figsize=(10, 6))\n",
        "    plt.bar(lengths, counts, color=\"skyblue\", edgecolor=\"black\")\n",
        "    plt.xlabel(\"Word Length (Characters)\")\n",
        "    plt.ylabel(\"Frequency\")\n",
        "    plt.title(\"Word Length Distribution\")\n",
        "    plt.xticks(lengths)\n",
        "    plt.grid(axis=\"y\", linestyle=\"dashed\", alpha=0.7)\n",
        "    plt.show()\n",
        "\n",
        "    # Analyze word length\n",
        "token_lengths = analyze_word_length(tokens)\n",
        "mean_length, median_length, mode_length = compute_word_length_stats(token_lengths)\n",
        "plot_word_length_distribution(token_lengths)\n",
        "\n",
        "# Display results\n",
        "print(\"Mean Word Length:\", mean_length)\n",
        "print(\"Median Word Length:\", median_length)\n",
        "print(\"Most Common Word Length (Mode):\", mode_length)\n",
        "\n"
      ],
      "metadata": {
        "colab": {
          "base_uri": "https://localhost:8080/",
          "height": 616
        },
        "id": "6WBw0qnbeWoR",
        "outputId": "7e75c254-bc53-464e-ed85-5ebcab235472"
      },
      "execution_count": 7,
      "outputs": [
        {
          "output_type": "display_data",
          "data": {
            "text/plain": [
              "<Figure size 1000x600 with 1 Axes>"
            ],
            "image/png": "[encoded data removed]"
          },
          "metadata": {}
        },
        {
          "output_type": "stream",
          "name": "stdout",
          "text": [
            "Mean Word Length: 2.7832429768358797\n",
            "Median Word Length: 3.0\n",
            "Most Common Word Length (Mode): 3\n"
          ]
        }
      ]
    },
    {
      "cell_type": "code",
      "source": [
        "from collections import Counter\n",
        "\n",
        "# Function to generate character-level n-grams\n",
        "def get_character_ngrams(text, n):\n",
        "    return [text[i:i+n] for i in range(len(text) - n + 1)]\n",
        "\n",
        "# Function to calculate TTR\n",
        "def calculate_ttr(text, n):\n",
        "    ngrams = get_character_ngrams(text, n)\n",
        "    total_ngrams = len(ngrams)\n",
        "    unique_ngrams = len(set(ngrams))\n",
        "\n",
        "    if total_ngrams == 0:\n",
        "        return 0  # Avoid division by zero\n",
        "\n",
        "    return unique_ngrams / total_ngrams\n",
        "\n",
        "# Function to calculate MTTR with a window size\n",
        "def calculate_mttr(text, n, window_size):\n",
        "    ngrams = get_character_ngrams(text, n)\n",
        "\n",
        "    if len(ngrams) < window_size:\n",
        "        return 0  # Not enough n-grams for window\n",
        "\n",
        "    mttr_values = []\n",
        "    for i in range(len(ngrams) - window_size + 1):\n",
        "        window = ngrams[i:i+window_size]\n",
        "        unique_ngrams = len(set(window))\n",
        "        mttr_values.append(unique_ngrams / window_size)\n",
        "\n",
        "    return sum(mttr_values) / len(mttr_values) if mttr_values else 0\n",
        "\n",
        "# Read Chhattisgarhi text from the file\n",
        "with open('totalgondi.txt', 'r', encoding='utf-8') as file:\n",
        "    text = file.read().replace(\"\\n\", \" \")  # Merge lines into a single text\n",
        "\n",
        "# Compute TTR and MTTR for n=1 to n=7\n",
        "window_size = 500  # Define window size for MTTR\n",
        "\n",
        "for n in range(1, 8):\n",
        "    ttr = calculate_ttr(text, n)\n",
        "    mttr = calculate_mttr(text, n, window_size)\n",
        "    print(f\"{n}-gram TTR: {ttr:.4f}, MTTR: {mttr:.4f}\")\n"
      ],
      "metadata": {
        "colab": {
          "base_uri": "https://localhost:8080/"
        },
        "id": "JIysDdwreklj",
        "outputId": "7d6430df-664c-496b-fc1a-4f0d0e8eaf24"
      },
      "execution_count": 9,
      "outputs": [
        {
          "output_type": "stream",
          "name": "stdout",
          "text": [
            "1-gram TTR: 0.0018, MTTR: 0.0852\n",
            "2-gram TTR: 0.0279, MTTR: 0.4001\n",
            "3-gram TTR: 0.1344, MTTR: 0.6598\n",
            "4-gram TTR: 0.3153, MTTR: 0.7882\n",
            "5-gram TTR: 0.4953, MTTR: 0.8545\n",
            "6-gram TTR: 0.6145, MTTR: 0.8960\n",
            "7-gram TTR: 0.6911, MTTR: 0.9248\n"
          ]
        }
      ]
    },
    {
      "cell_type": "code",
      "source": [
        "!apt install -y cmake build-essential libboost-all-dev"
      ],
      "metadata": {
        "colab": {
          "base_uri": "https://localhost:8080/"
        },
        "id": "txlcdPpvexJM",
        "outputId": "c75f3440-ee74-47c4-defd-3a239ebcfeb9"
      },
      "execution_count": 10,
      "outputs": [
        {
          "output_type": "stream",
          "name": "stdout",
          "text": [
            "Reading package lists... Done\n",
            "Building dependency tree... Done\n",
            "Reading state information... Done\n",
            "build-essential is already the newest version (12.9ubuntu3).\n",
            "libboost-all-dev is already the newest version (1.74.0.3ubuntu7).\n",
            "cmake is already the newest version (3.22.1-1ubuntu1.22.04.2).\n",
            "0 upgraded, 0 newly installed, 0 to remove and 18 not upgraded.\n"
          ]
        }
      ]
    },
    {
      "cell_type": "code",
      "source": [
        "!git clone https://github.com/kpu/kenlm.git"
      ],
      "metadata": {
        "colab": {
          "base_uri": "https://localhost:8080/"
        },
        "id": "dtXtU9yMiYAI",
        "outputId": "8bbcf567-48f5-41e6-faae-c31159773de0"
      },
      "execution_count": 11,
      "outputs": [
        {
          "output_type": "stream",
          "name": "stdout",
          "text": [
            "Cloning into 'kenlm'...\n",
            "remote: Enumerating objects: 14170, done.\u001b[K\n",
            "remote: Counting objects: 100% (123/123), done.\u001b[K\n",
            "remote: Compressing objects: 100% (67/67), done.\u001b[K\n",
            "remote: Total 14170 (delta 85), reused 56 (delta 56), pack-reused 14047 (from 4)\u001b[K\n",
            "Receiving objects: 100% (14170/14170), 5.98 MiB | 17.34 MiB/s, done.\n",
            "Resolving deltas: 100% (8041/8041), done.\n"
          ]
        }
      ]
    },
    {
      "cell_type": "code",
      "source": [
        "!cd kenlm && mkdir -p build && cd build && cmake .. && make -j2"
      ],
      "metadata": {
        "colab": {
          "base_uri": "https://localhost:8080/"
        },
        "id": "LR0hlkp4iaMZ",
        "outputId": "fe03fa6a-8656-40a2-dd07-4cfbbfdc11db"
      },
      "execution_count": 12,
      "outputs": [
        {
          "output_type": "stream",
          "name": "stdout",
          "text": [
            "\u001b[0mCMake Deprecation Warning at CMakeLists.txt:1 (cmake_minimum_required):\n",
            "  Compatibility with CMake < 3.10 will be removed from a future version of\n",
            "  CMake.\n",
            "\n",
            "  Update the VERSION argument <min> value.  Or, use the <min>...<max> syntax\n",
            "  to tell CMake that the project requires at least <min> but has been updated\n",
            "  to work with policies introduced by <max> or earlier.\n",
            "\n",
            "\u001b[0m\n",
            "-- The C compiler identification is GNU 11.4.0\n",
            "-- The CXX compiler identification is GNU 11.4.0\n",
            "-- Detecting C compiler ABI info\n",
            "-- Detecting C compiler ABI info - done\n",
            "-- Check for working C compiler: /usr/bin/cc - skipped\n",
            "-- Detecting C compile features\n",
            "-- Detecting C compile features - done\n",
            "-- Detecting CXX compiler ABI info\n",
            "-- Detecting CXX compiler ABI info - done\n",
            "-- Check for working CXX compiler: /usr/bin/c++ - skipped\n",
            "-- Detecting CXX compile features\n",
            "-- Detecting CXX compile features - done\n",
            "-- Could NOT find Eigen3 (missing: Eigen3_DIR)\n",
            "\u001b[33mCMake Warning (dev) at CMakeLists.txt:97 (find_package):\n",
            "  Policy CMP0167 is not set: The FindBoost module is removed.  Run \"cmake\n",
            "  --help-policy CMP0167\" for policy details.  Use the cmake_policy command to\n",
            "  set the policy and suppress this warning.\n",
            "\n",
            "This warning is for project developers.  Use -Wno-dev to suppress it.\n",
            "\u001b[0m\n",
            "-- Found Boost: /usr/lib/x86_64-linux-gnu/cmake/Boost-1.74.0/BoostConfig.cmake (found suitable version \"1.74.0\", minimum required is \"1.41.0\") found components: program_options system thread unit_test_framework\n",
            "-- Found Threads: TRUE\n",
            "-- Found ZLIB: /usr/lib/x86_64-linux-gnu/libz.so (found version \"1.2.11\")\n",
            "-- Found BZip2: /usr/lib/x86_64-linux-gnu/libbz2.so (found version \"1.0.8\")\n",
            "-- Looking for BZ2_bzCompressInit\n",
            "-- Looking for BZ2_bzCompressInit - found\n",
            "-- Looking for lzma_auto_decoder in /usr/lib/x86_64-linux-gnu/liblzma.so\n",
            "-- Looking for lzma_auto_decoder in /usr/lib/x86_64-linux-gnu/liblzma.so - found\n",
            "-- Looking for lzma_easy_encoder in /usr/lib/x86_64-linux-gnu/liblzma.so\n",
            "-- Looking for lzma_easy_encoder in /usr/lib/x86_64-linux-gnu/liblzma.so - found\n",
            "-- Looking for lzma_lzma_preset in /usr/lib/x86_64-linux-gnu/liblzma.so\n",
            "-- Looking for lzma_lzma_preset in /usr/lib/x86_64-linux-gnu/liblzma.so - found\n",
            "-- Found LibLZMA: /usr/lib/x86_64-linux-gnu/liblzma.so (found version \"5.2.5\")\n",
            "-- Looking for clock_gettime in rt\n",
            "-- Looking for clock_gettime in rt - found\n",
            "-- Configuring done (2.4s)\n",
            "-- Generating done (0.1s)\n",
            "-- Build files have been written to: /content/kenlm/build\n",
            "[  2%] \u001b[32mBuilding CXX object util/CMakeFiles/kenlm_util.dir/double-conversion/bignum-dtoa.cc.o\u001b[0m\n",
            "[  2%] \u001b[32mBuilding CXX object util/CMakeFiles/kenlm_util.dir/double-conversion/bignum.cc.o\u001b[0m\n",
            "[  3%] \u001b[32mBuilding CXX object util/CMakeFiles/kenlm_util.dir/double-conversion/cached-powers.cc.o\u001b[0m\n",
            "[  5%] \u001b[32mBuilding CXX object util/CMakeFiles/kenlm_util.dir/double-conversion/fast-dtoa.cc.o\u001b[0m\n",
            "[  6%] \u001b[32mBuilding CXX object util/CMakeFiles/kenlm_util.dir/double-conversion/fixed-dtoa.cc.o\u001b[0m\n",
            "[  7%] \u001b[32mBuilding CXX object util/CMakeFiles/kenlm_util.dir/double-conversion/strtod.cc.o\u001b[0m\n",
            "[  8%] \u001b[32mBuilding CXX object util/CMakeFiles/kenlm_util.dir/double-conversion/double-to-string.cc.o\u001b[0m\n",
            "[ 10%] \u001b[32mBuilding CXX object util/CMakeFiles/kenlm_util.dir/double-conversion/string-to-double.cc.o\u001b[0m\n",
            "[ 11%] \u001b[32mBuilding CXX object util/CMakeFiles/kenlm_util.dir/stream/chain.cc.o\u001b[0m\n",
            "[ 12%] \u001b[32mBuilding CXX object util/CMakeFiles/kenlm_util.dir/stream/count_records.cc.o\u001b[0m\n",
            "[ 13%] \u001b[32mBuilding CXX object util/CMakeFiles/kenlm_util.dir/stream/io.cc.o\u001b[0m\n",
            "[ 15%] \u001b[32mBuilding CXX object util/CMakeFiles/kenlm_util.dir/stream/line_input.cc.o\u001b[0m\n",
            "[ 16%] \u001b[32mBuilding CXX object util/CMakeFiles/kenlm_util.dir/stream/multi_progress.cc.o\u001b[0m\n",
            "[ 17%] \u001b[32mBuilding CXX object util/CMakeFiles/kenlm_util.dir/stream/rewindable_stream.cc.o\u001b[0m\n",
            "[ 18%] \u001b[32mBuilding CXX object util/CMakeFiles/kenlm_util.dir/bit_packing.cc.o\u001b[0m\n",
            "[ 20%] \u001b[32mBuilding CXX object util/CMakeFiles/kenlm_util.dir/ersatz_progress.cc.o\u001b[0m\n",
            "[ 21%] \u001b[32mBuilding CXX object util/CMakeFiles/kenlm_util.dir/exception.cc.o\u001b[0m\n",
            "[ 22%] \u001b[32mBuilding CXX object util/CMakeFiles/kenlm_util.dir/file.cc.o\u001b[0m\n",
            "[ 23%] \u001b[32mBuilding CXX object util/CMakeFiles/kenlm_util.dir/file_piece.cc.o\u001b[0m\n",
            "[ 25%] \u001b[32mBuilding CXX object util/CMakeFiles/kenlm_util.dir/float_to_string.cc.o\u001b[0m\n",
            "[ 26%] \u001b[32mBuilding CXX object util/CMakeFiles/kenlm_util.dir/integer_to_string.cc.o\u001b[0m\n",
            "[ 27%] \u001b[32mBuilding CXX object util/CMakeFiles/kenlm_util.dir/mmap.cc.o\u001b[0m\n",
            "[ 28%] \u001b[32mBuilding CXX object util/CMakeFiles/kenlm_util.dir/murmur_hash.cc.o\u001b[0m\n",
            "[ 30%] \u001b[32mBuilding CXX object util/CMakeFiles/kenlm_util.dir/parallel_read.cc.o\u001b[0m\n",
            "[ 31%] \u001b[32mBuilding CXX object util/CMakeFiles/kenlm_util.dir/pool.cc.o\u001b[0m\n",
            "[ 32%] \u001b[32mBuilding CXX object util/CMakeFiles/kenlm_util.dir/read_compressed.cc.o\u001b[0m\n",
            "[ 33%] \u001b[32mBuilding CXX object util/CMakeFiles/kenlm_util.dir/scoped.cc.o\u001b[0m\n",
            "[ 35%] \u001b[32mBuilding CXX object util/CMakeFiles/kenlm_util.dir/spaces.cc.o\u001b[0m\n",
            "[ 36%] \u001b[32mBuilding CXX object util/CMakeFiles/kenlm_util.dir/string_piece.cc.o\u001b[0m\n",
            "[ 37%] \u001b[32mBuilding CXX object util/CMakeFiles/kenlm_util.dir/usage.cc.o\u001b[0m\n",
            "[ 38%] \u001b[32m\u001b[1mLinking CXX static library ../lib/libkenlm_util.a\u001b[0m\n",
            "[ 38%] Built target kenlm_util\n",
            "[ 41%] \u001b[32mBuilding CXX object lm/CMakeFiles/kenlm.dir/bhiksha.cc.o\u001b[0m\n",
            "[ 41%] \u001b[32mBuilding CXX object util/CMakeFiles/probing_hash_table_benchmark.dir/probing_hash_table_benchmark_main.cc.o\u001b[0m\n",
            "[ 42%] \u001b[32mBuilding CXX object lm/CMakeFiles/kenlm.dir/binary_format.cc.o\u001b[0m\n",
            "[ 43%] \u001b[32mBuilding CXX object lm/CMakeFiles/kenlm.dir/config.cc.o\u001b[0m\n",
            "[ 45%] \u001b[32mBuilding CXX object lm/CMakeFiles/kenlm.dir/lm_exception.cc.o\u001b[0m\n",
            "[ 46%] \u001b[32mBuilding CXX object lm/CMakeFiles/kenlm.dir/model.cc.o\u001b[0m\n",
            "[ 47%] \u001b[32mBuilding CXX object lm/CMakeFiles/kenlm.dir/quantize.cc.o\u001b[0m\n",
            "[ 48%] \u001b[32mBuilding CXX object lm/CMakeFiles/kenlm.dir/read_arpa.cc.o\u001b[0m\n",
            "[ 50%] \u001b[32m\u001b[1mLinking CXX executable ../bin/probing_hash_table_benchmark\u001b[0m\n",
            "[ 50%] Built target probing_hash_table_benchmark\n",
            "[ 51%] \u001b[32mBuilding CXX object lm/filter/CMakeFiles/kenlm_filter.dir/arpa_io.cc.o\u001b[0m\n",
            "[ 52%] \u001b[32mBuilding CXX object lm/CMakeFiles/kenlm.dir/search_hashed.cc.o\u001b[0m\n",
            "[ 53%] \u001b[32mBuilding CXX object lm/filter/CMakeFiles/kenlm_filter.dir/phrase.cc.o\u001b[0m\n",
            "[ 55%] \u001b[32mBuilding CXX object lm/CMakeFiles/kenlm.dir/search_trie.cc.o\u001b[0m\n",
            "[ 56%] \u001b[32mBuilding CXX object lm/filter/CMakeFiles/kenlm_filter.dir/vocab.cc.o\u001b[0m\n",
            "[ 57%] \u001b[32m\u001b[1mLinking CXX static library ../../lib/libkenlm_filter.a\u001b[0m\n",
            "[ 57%] Built target kenlm_filter\n",
            "[ 58%] \u001b[32mBuilding CXX object lm/CMakeFiles/kenlm.dir/sizes.cc.o\u001b[0m\n",
            "[ 60%] \u001b[32mBuilding CXX object lm/CMakeFiles/kenlm.dir/trie.cc.o\u001b[0m\n",
            "[ 61%] \u001b[32mBuilding CXX object lm/CMakeFiles/kenlm.dir/trie_sort.cc.o\u001b[0m\n",
            "[ 62%] \u001b[32mBuilding CXX object lm/CMakeFiles/kenlm.dir/value_build.cc.o\u001b[0m\n",
            "[ 63%] \u001b[32mBuilding CXX object lm/CMakeFiles/kenlm.dir/virtual_interface.cc.o\u001b[0m\n",
            "[ 65%] \u001b[32mBuilding CXX object lm/CMakeFiles/kenlm.dir/vocab.cc.o\u001b[0m\n",
            "[ 66%] \u001b[32mBuilding CXX object lm/CMakeFiles/kenlm.dir/common/model_buffer.cc.o\u001b[0m\n",
            "[ 67%] \u001b[32mBuilding CXX object lm/CMakeFiles/kenlm.dir/common/print.cc.o\u001b[0m\n",
            "[ 68%] \u001b[32mBuilding CXX object lm/CMakeFiles/kenlm.dir/common/renumber.cc.o\u001b[0m\n",
            "[ 70%] \u001b[32mBuilding CXX object lm/CMakeFiles/kenlm.dir/common/size_option.cc.o\u001b[0m\n",
            "[ 71%] \u001b[32m\u001b[1mLinking CXX static library ../lib/libkenlm.a\u001b[0m\n",
            "[ 71%] Built target kenlm\n",
            "[ 73%] \u001b[32mBuilding CXX object lm/CMakeFiles/query.dir/query_main.cc.o\u001b[0m\n",
            "[ 73%] \u001b[32mBuilding CXX object lm/CMakeFiles/fragment.dir/fragment_main.cc.o\u001b[0m\n",
            "[ 75%] \u001b[32m\u001b[1mLinking CXX executable ../bin/fragment\u001b[0m\n",
            "[ 75%] Built target fragment\n",
            "[ 76%] \u001b[32mBuilding CXX object lm/CMakeFiles/build_binary.dir/build_binary_main.cc.o\u001b[0m\n",
            "[ 77%] \u001b[32m\u001b[1mLinking CXX executable ../bin/query\u001b[0m\n",
            "[ 77%] Built target query\n",
            "[ 78%] \u001b[32mBuilding CXX object lm/CMakeFiles/kenlm_benchmark.dir/kenlm_benchmark_main.cc.o\u001b[0m\n",
            "[ 80%] \u001b[32m\u001b[1mLinking CXX executable ../bin/build_binary\u001b[0m\n",
            "[ 80%] Built target build_binary\n",
            "[ 81%] \u001b[32mBuilding CXX object lm/builder/CMakeFiles/kenlm_builder.dir/adjust_counts.cc.o\u001b[0m\n",
            "[ 82%] \u001b[32mBuilding CXX object lm/builder/CMakeFiles/kenlm_builder.dir/corpus_count.cc.o\u001b[0m\n",
            "[ 83%] \u001b[32mBuilding CXX object lm/builder/CMakeFiles/kenlm_builder.dir/initial_probabilities.cc.o\u001b[0m\n",
            "[ 85%] \u001b[32mBuilding CXX object lm/builder/CMakeFiles/kenlm_builder.dir/interpolate.cc.o\u001b[0m\n",
            "[ 86%] \u001b[32mBuilding CXX object lm/builder/CMakeFiles/kenlm_builder.dir/output.cc.o\u001b[0m\n",
            "[ 87%] \u001b[32m\u001b[1mLinking CXX executable ../bin/kenlm_benchmark\u001b[0m\n",
            "[ 87%] Built target kenlm_benchmark\n",
            "[ 88%] \u001b[32mBuilding CXX object lm/builder/CMakeFiles/kenlm_builder.dir/pipeline.cc.o\u001b[0m\n",
            "[ 90%] \u001b[32mBuilding CXX object lm/filter/CMakeFiles/filter.dir/filter_main.cc.o\u001b[0m\n",
            "[ 91%] \u001b[32m\u001b[1mLinking CXX static library ../../lib/libkenlm_builder.a\u001b[0m\n",
            "[ 91%] Built target kenlm_builder\n",
            "[ 92%] \u001b[32mBuilding CXX object lm/filter/CMakeFiles/phrase_table_vocab.dir/phrase_table_vocab_main.cc.o\u001b[0m\n",
            "[ 93%] \u001b[32m\u001b[1mLinking CXX executable ../../bin/phrase_table_vocab\u001b[0m\n",
            "[ 93%] Built target phrase_table_vocab\n",
            "[ 95%] \u001b[32mBuilding CXX object lm/builder/CMakeFiles/lmplz.dir/lmplz_main.cc.o\u001b[0m\n",
            "[ 96%] \u001b[32m\u001b[1mLinking CXX executable ../../bin/filter\u001b[0m\n",
            "[ 96%] Built target filter\n",
            "[ 97%] \u001b[32mBuilding CXX object lm/builder/CMakeFiles/count_ngrams.dir/count_ngrams_main.cc.o\u001b[0m\n",
            "[ 98%] \u001b[32m\u001b[1mLinking CXX executable ../../bin/lmplz\u001b[0m\n",
            "[ 98%] Built target lmplz\n",
            "[100%] \u001b[32m\u001b[1mLinking CXX executable ../../bin/count_ngrams\u001b[0m\n",
            "[100%] Built target count_ngrams\n"
          ]
        }
      ]
    },
    {
      "cell_type": "code",
      "source": [
        "# Read Chhattisgarhi text from a file\n",
        "with open('totalgondi.txt', 'r', encoding='utf-8') as file:\n",
        "    totalsadri = file.read()\n",
        "\n",
        "def char_tokenize(text):\n",
        "    return \" \".join(text.replace(\" \", \"_\"))  # Replace spaces with \"_\"\n",
        "\n",
        "\n",
        "# Open the file, tokenize character-wise, and save it\n",
        "output_file = \"gondi_char_tokenized.txt\"\n",
        "\n",
        "with open('totalgondi.txt', \"r\", encoding=\"utf-8\") as infile, open(output_file, \"w\", encoding=\"utf-8\") as outfile:\n",
        "    for line in infile:\n",
        "        tokenized_line = char_tokenize(line.strip())  # Tokenize line\n",
        "        outfile.write(tokenized_line + \"\\n\")  # Write tokenized text\n",
        "\n",
        "print(f\"Character-tokenized text saved to: {output_file}\")\n"
      ],
      "metadata": {
        "colab": {
          "base_uri": "https://localhost:8080/"
        },
        "id": "zXi43DNbicmn",
        "outputId": "d4ac89e2-fbfb-45c3-e884-67612c0a6dda"
      },
      "execution_count": 13,
      "outputs": [
        {
          "output_type": "stream",
          "name": "stdout",
          "text": [
            "Character-tokenized text saved to: gondi_char_tokenized.txt\n"
          ]
        }
      ]
    },
    {
      "cell_type": "code",
      "source": [
        "!kenlm/build/bin/lmplz --discount_fallback -o 5 <gondi_char_tokenized.txt > gondi.arpa"
      ],
      "metadata": {
        "colab": {
          "base_uri": "https://localhost:8080/"
        },
        "id": "9kzmrkMEizwu",
        "outputId": "493d07f4-c15f-4809-d2b5-4511ed68e748"
      },
      "execution_count": 14,
      "outputs": [
        {
          "output_type": "stream",
          "name": "stdout",
          "text": [
            "=== 1/5 Counting and sorting n-grams ===\n",
            "Reading /content/gondi_char_tokenized.txt\n",
            "----5---10---15---20---25---30---35---40---45---50---55---60---65---70---75---80---85---90---95--100\n",
            "****************************************************************************************************\n",
            "Unigram tokens 55692 types 105\n",
            "=== 2/5 Calculating and sorting adjusted counts ===\n",
            "Chain sizes: 1:1260 2:1062199360 3:1991623936 4:3186598144 5:4647122432\n",
            "Statistics:\n",
            "1 105 D1=0.459459 D2=0.897297 D3+=2.54054\n",
            "2 1629 D1=0.524237 D2=1.08011 D3+=1.45773\n",
            "3 7810 D1=0.614999 D2=1.19687 D3+=1.65276\n",
            "4 17625 D1=0.719219 D2=1.23117 D3+=1.62521\n",
            "5 26795 D1=0.603292 D2=1.42753 D3+=1.60269\n",
            "Memory estimate for binary LM:\n",
            "type      kB\n",
            "probing 1107 assuming -p 1.5\n",
            "probing 1266 assuming -r models -p 1.5\n",
            "trie     407 without quantization\n",
            "trie     183 assuming -q 8 -b 8 quantization \n",
            "trie     383 assuming -a 22 array pointer compression\n",
            "trie     160 assuming -a 22 -q 8 -b 8 array pointer compression and quantization\n",
            "=== 3/5 Calculating and sorting initial probabilities ===\n",
            "Chain sizes: 1:1260 2:26064 3:156200 4:423000 5:750260\n",
            "----5---10---15---20---25---30---35---40---45---50---55---60---65---70---75---80---85---90---95--100\n",
            "####################################################################################################\n",
            "=== 4/5 Calculating and writing order-interpolated probabilities ===\n",
            "Chain sizes: 1:1260 2:26064 3:156200 4:423000 5:750260\n",
            "----5---10---15---20---25---30---35---40---45---50---55---60---65---70---75---80---85---90---95--100\n",
            "####################################################################################################\n",
            "=== 5/5 Writing ARPA model ===\n",
            "----5---10---15---20---25---30---35---40---45---50---55---60---65---70---75---80---85---90---95--100\n",
            "****************************************************************************************************\n",
            "Name:lmplz\tVmPeak:10804264 kB\tVmRSS:7316 kB\tRSSMax:1878352 kB\tuser:0.232939\tsys:2.2932\tCPU:2.52619\treal:2.52958\n"
          ]
        }
      ]
    },
    {
      "cell_type": "code",
      "source": [
        "!pip install https://github.com/kpu/kenlm/archive/master.zip\n"
      ],
      "metadata": {
        "colab": {
          "base_uri": "https://localhost:8080/"
        },
        "id": "xkFta_Tji3BM",
        "outputId": "bd62c60f-0959-45a6-8a81-6c851456e671"
      },
      "execution_count": 15,
      "outputs": [
        {
          "output_type": "stream",
          "name": "stdout",
          "text": [
            "Collecting https://github.com/kpu/kenlm/archive/master.zip\n",
            "  Downloading https://github.com/kpu/kenlm/archive/master.zip\n",
            "\u001b[2K     \u001b[32m/\u001b[0m \u001b[32m553.6 kB\u001b[0m \u001b[31m2.0 MB/s\u001b[0m \u001b[33m0:00:00\u001b[0m\n",
            "\u001b[?25h  Installing build dependencies ... \u001b[?25l\u001b[?25hdone\n",
            "  Getting requirements to build wheel ... \u001b[?25l\u001b[?25hdone\n",
            "  Preparing metadata (pyproject.toml) ... \u001b[?25l\u001b[?25hdone\n",
            "Building wheels for collected packages: kenlm\n",
            "  Building wheel for kenlm (pyproject.toml) ... \u001b[?25l\u001b[?25hdone\n",
            "  Created wheel for kenlm: filename=kenlm-0.2.0-cp311-cp311-linux_x86_64.whl size=3186616 sha256=cd8f2cb5fd22e7143ddce16cd87c52a182f6a7a7db24fbb411a7ad3bd3ea7016\n",
            "  Stored in directory: /tmp/pip-ephem-wheel-cache-f1n8yfuo/wheels/4e/ca/6a/e5da175b1396483f6f410cdb4cfe8bc8fa5e12088e91d60413\n",
            "Successfully built kenlm\n",
            "Installing collected packages: kenlm\n",
            "Successfully installed kenlm-0.2.0\n"
          ]
        }
      ]
    },
    {
      "cell_type": "code",
      "source": [
        "!kenlm/build/bin/query -v summary gondi.arpa <totalgondi.txt"
      ],
      "metadata": {
        "colab": {
          "base_uri": "https://localhost:8080/"
        },
        "id": "F3c-5IKLi5uB",
        "outputId": "92ee400e-bbd0-4e0a-f022-5efabed2c218"
      },
      "execution_count": 19,
      "outputs": [
        {
          "output_type": "stream",
          "name": "stdout",
          "text": [
            "Loading the LM will be faster if you build a binary file.\n",
            "Reading gondi.arpa\n",
            "----5---10---15---20---25---30---35---40---45---50---55---60---65---70---75---80---85---90---95--100\n",
            "****************************************************************************************************\n",
            "Perplexity including OOVs:\t951.4321658429495\n",
            "Perplexity excluding OOVs:\t203.5445400403926\n",
            "OOVs:\t10083\n",
            "Tokens:\t11548\n",
            "Name:query\tVmPeak:9164 kB\tVmRSS:4620 kB\tRSSMax:6272 kB\tuser:0.02743\tsys:0.005877\tCPU:0.0333567\treal:0.0337108\n"
          ]
        }
      ]
    },
    {
      "cell_type": "code",
      "source": [
        "import kenlm\n",
        "\n",
        "def calculate_cross_entropy(model_path, text):\n",
        "    # Load the KenLM model\n",
        "    model = kenlm.Model(model_path)\n",
        "\n",
        "    # Tokenize the input text\n",
        "    words = text.split()\n",
        "\n",
        "    # Calculate the log probability of the sequence\n",
        "    log_prob = model.score(' '.join(words), bos=True, eos=True)\n",
        "\n",
        "    # Number of words\n",
        "    num_words = len(words)\n",
        "\n",
        "    # Cross-entropy calculation\n",
        "    cross_entropy = -log_prob / num_words\n",
        "\n",
        "    return cross_entropy\n",
        "\n",
        "# Example usage\n",
        "model_path = '/content/gondi.arpa'\n",
        "file_path = '/content/totalgondi.txt'\n",
        "\n",
        "# Read text from file\n",
        "with open(file_path, 'r', encoding='utf-8') as file:\n",
        "    text = file.read()\n",
        "\n",
        "entropy = calculate_cross_entropy(model_path, text)\n",
        "print(f'Cross-Entropy of language: {entropy}')\n"
      ],
      "metadata": {
        "colab": {
          "base_uri": "https://localhost:8080/"
        },
        "id": "9h6bRamli_Fv",
        "outputId": "27043b1e-82d6-4f20-d1ef-f0eb64de85ee"
      },
      "execution_count": 20,
      "outputs": [
        {
          "output_type": "stream",
          "name": "stdout",
          "text": [
            "Cross-Entropy of language: 2.898735838849287\n"
          ]
        }
      ]
    },
    {
      "cell_type": "code",
      "source": [],
      "metadata": {
        "id": "aFRmxGwdjOM_"
      },
      "execution_count": null,
      "outputs": []
    }
  ]
}