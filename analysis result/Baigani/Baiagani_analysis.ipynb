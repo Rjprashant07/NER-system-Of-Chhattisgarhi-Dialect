{
  "nbformat": 4,
  "nbformat_minor": 0,
  "metadata": {
    "colab": {
      "provenance": []
    },
    "kernelspec": {
      "name": "python3",
      "display_name": "Python 3"
    },
    "language_info": {
      "name": "python"
    }
  },
  "cells": [
    {
      "cell_type": "code",
      "execution_count": 1,
      "metadata": {
        "colab": {
          "base_uri": "https://localhost:8080/"
        },
        "id": "swZldr-hH8nd",
        "outputId": "4a56f09d-408a-4589-c29f-a5656004f9f3"
      },
      "outputs": [
        {
          "output_type": "stream",
          "name": "stdout",
          "text": [
            "Requirement already satisfied: nltk in /usr/local/lib/python3.11/dist-packages (3.9.1)\n",
            "Requirement already satisfied: click in /usr/local/lib/python3.11/dist-packages (from nltk) (8.1.8)\n",
            "Requirement already satisfied: joblib in /usr/local/lib/python3.11/dist-packages (from nltk) (1.4.2)\n",
            "Requirement already satisfied: regex>=2021.8.3 in /usr/local/lib/python3.11/dist-packages (from nltk) (2024.11.6)\n",
            "Requirement already satisfied: tqdm in /usr/local/lib/python3.11/dist-packages (from nltk) (4.67.1)\n"
          ]
        },
        {
          "output_type": "stream",
          "name": "stderr",
          "text": [
            "[nltk_data] Downloading package punkt_tab to /root/nltk_data...\n",
            "[nltk_data]   Unzipping tokenizers/punkt_tab.zip.\n"
          ]
        },
        {
          "output_type": "stream",
          "name": "stdout",
          "text": [
            "Collecting morfessor\n",
            "  Downloading Morfessor-2.0.6-py3-none-any.whl.metadata (628 bytes)\n",
            "Downloading Morfessor-2.0.6-py3-none-any.whl (35 kB)\n",
            "Installing collected packages: morfessor\n",
            "Successfully installed morfessor-2.0.6\n"
          ]
        }
      ],
      "source": [
        "#pip uninstall nltk\n",
        "!pip install nltk\n",
        "import nltk\n",
        "nltk.download('punkt_tab')\n",
        "!pip install morfessor\n",
        "import numpy as np"
      ]
    },
    {
      "cell_type": "code",
      "source": [
        "import re\n",
        "import math\n",
        "from collections import Counter\n",
        "import matplotlib.pyplot as plt\n",
        "from nltk.tokenize import word_tokenize, sent_tokenize\n",
        "import morfessor\n",
        "from morfessor.io import MorfessorIO\n",
        "from morfessor.baseline import BaselineModel\n",
        "\n",
        "# Read Chhattisgarhi text from a file\n",
        "with open('totalbaiagani.txt', 'r', encoding='utf-8') as file:\n",
        "   totalbaiagani = file.read()\n",
        "\n",
        "# Preprocess the text\n",
        "def preprocess_text(text):\n",
        "    # Remove Hindi full stop (।) and double full stop (॥)\n",
        "    text = re.sub(r'[\\u0964\\u0965]', '', text)\n",
        "    # Remove other punctuation marks but keep words and spaces\n",
        "    text = re.sub(r'[^\\w\\s]', '', text)\n",
        "    return text\n",
        "\n",
        "# Tokenize the text into words using NLTK\n",
        "def tokenize(text):\n",
        "    return word_tokenize(text)\n",
        "\n",
        "# Count the number of sentences\n",
        "def count_sentences(text):\n",
        "    sentence_delimiters = r'[\\u0964\\u0965.!।|?]'\n",
        "    sentences = re.split(sentence_delimiters, text)\n",
        "    sentences = [s.strip() for s in sentences if s.strip()]\n",
        "    return len(sentences)\n",
        "\n",
        "# Calculate Type-Token Ratio (TTR)\n",
        "def calculate_ttr(tokens):\n",
        "    unique_tokens = set(tokens)\n",
        "    return len(unique_tokens) / len(tokens) if tokens else 0\n",
        "\n",
        "# Calculate Moving Average TTR (MATTR)\n",
        "def calculate_mattr(tokens, window_size=500):\n",
        "    if len(tokens) < window_size:\n",
        "        return calculate_ttr(tokens)\n",
        "    mattr_values = [calculate_ttr(tokens[i:i + window_size]) for i in range(len(tokens) - window_size + 1)]\n",
        "    return sum(mattr_values) / len(mattr_values)\n",
        "\n",
        "# Calculate entropy\n",
        "def calculate_entropy(frequencies, total_tokens):\n",
        "    entropy = -sum((count / total_tokens) * math.log2(count / total_tokens) for count in frequencies.values())\n",
        "    return entropy\n",
        "\n",
        "# Perform frequency analysis\n",
        "def frequency_analysis(words):\n",
        "    return Counter(words)\n",
        "\n",
        "# Count rare types (unique words appearing only once)\n",
        "def count_rare_types(frequencies):\n",
        "    return sum(1 for count in frequencies.values() if count == 1)\n",
        "\n",
        "# Function to calculate relative frequency and cumulative coverage of top 10 morphemes\n",
        "def calculate_relative_and_cumulative(frequencies):\n",
        "    total_count = sum(frequencies.values())\n",
        "    sorted_frequencies = frequencies.most_common(10)\n",
        "\n",
        "    relative_frequencies = {word: count / total_count for word, count in sorted_frequencies}\n",
        "    cumulative_coverage = []\n",
        "    cumulative_sum = 0\n",
        "    for word, count in sorted_frequencies:\n",
        "        cumulative_sum += count / total_count\n",
        "        cumulative_coverage.append((word, cumulative_sum))\n",
        "\n",
        "    return relative_frequencies, cumulative_coverage\n",
        "\n",
        "    # Compute and plot Zipf's Law\n",
        "def calculate_zipfs_law(frequencies):\n",
        "    sorted_frequencies = frequencies.most_common()\n",
        "    ranks = np.arange(1, len(sorted_frequencies) + 1)\n",
        "    word_frequencies = np.array([freq for _, freq in sorted_frequencies])\n",
        "    return ranks, word_frequencies\n",
        "\n",
        "def plot_zipfs_law(ranks, frequencies):\n",
        "    plt.figure(figsize=(10, 6))\n",
        "    plt.loglog(ranks, frequencies, marker=\"o\", linestyle=\"none\", markersize=4, label=\"Actual Data\")\n",
        "\n",
        "    # Fit a Zipfian curve (linear fit on log-log scale)\n",
        "    log_ranks = np.log(ranks)\n",
        "    log_frequencies = np.log(frequencies)\n",
        "    slope, intercept = np.polyfit(log_ranks, log_frequencies, 1)\n",
        "    predicted_frequencies = np.exp(intercept) * ranks ** slope\n",
        "\n",
        "    plt.loglog(ranks, predicted_frequencies, linestyle=\"dashed\", color=\"red\", label=f\"Fit: slope={slope:.2f}\")\n",
        "    plt.xlabel(\"Rank (log scale)\")\n",
        "    plt.ylabel(\"Frequency (log scale)\")\n",
        "    plt.title(\"Zipf's Law: Word Frequency vs Rank\")\n",
        "    plt.legend()\n",
        "    plt.grid(True)\n",
        "    plt.show()\n",
        "\n",
        "    print(f\"Estimated Zipf's Law exponent: {slope:.2f}\")\n",
        "\n",
        "\n",
        "# Load the trained Morfessor model\n",
        "def load_morfessor_model(model_path):\n",
        "    io = MorfessorIO()\n",
        "    return io.read_binary_model_file(model_path)\n",
        "\n",
        "# Perform morphological analysis with Morfessor\n",
        "def analyze_morphology_with_morfessor(model, tokens):\n",
        "    # Join morphemes with a \"+\" sign\n",
        "    morphed_tokens = []\n",
        "    for token in tokens:\n",
        "        morphed = model.viterbi_segment(token)[0]\n",
        "        morphed_with_space = ' '.join(morphed)  # Join morphemes with '+'\n",
        "        morphed_tokens.append(morphed_with_space)\n",
        "    return morphed_tokens\n",
        "\n",
        "# Main analysis pipeline\n",
        "preprocessed_text = preprocess_text(totalbaiagani)\n",
        "tokens = tokenize(preprocessed_text)\n",
        "frequencies = frequency_analysis(tokens)\n",
        "rare_type_count = count_rare_types(frequencies)\n",
        "ttr = calculate_ttr(tokens)\n",
        "sentence_count = count_sentences(totalbaiagani)\n",
        "mattr = calculate_mattr(tokens)\n",
        "entropy = calculate_entropy(frequencies, len(tokens))\n",
        "\n",
        "# Load the pre-trained Morfessor model\n",
        "model_path = 'baigani.bin'\n",
        "morfessor_model = load_morfessor_model(model_path)\n",
        "\n",
        "# Perform morphological analysis with Morfessor\n",
        "root_words_morfessor = analyze_morphology_with_morfessor(morfessor_model, tokens)\n",
        "\n",
        "# Calculate relative frequency and cumulative coverage of top 10 morphemes\n",
        "relative_frequencies, cumulative_coverage = calculate_relative_and_cumulative(frequencies)\n",
        "\n",
        "# Calculate and plot Zipf's Law\n",
        "ranks, word_frequencies = calculate_zipfs_law(frequencies)\n",
        "plot_zipfs_law(ranks, word_frequencies)\n",
        "\n",
        "# Display results\n",
        "print(\"Total Words:\", len(tokens))\n",
        "print(\"Unique Words:\", len(set(tokens)))\n",
        "print(\"Type-Token Ratio (TTR):\", ttr)\n",
        "print(\"Moving Average TTR (MATTR):\", mattr)\n",
        "print(\"Total Rare Types:\", rare_type_count)\n",
        "print(\"Entropy:\", entropy)\n",
        "print(\"Most Common Words:\", frequencies.most_common(10))\n",
        "print(\"Root Words (Morphed using Morfessor):\", root_words_morfessor[:1000])\n",
        "print(\"Total no. of sentences:\", sentence_count)\n",
        "print(\"Relative Frequencies of Top 10 Morphemes:\", relative_frequencies)\n",
        "print(\"Cumulative Coverage of Top 10 Morphemes:\", cumulative_coverage)\n"
      ],
      "metadata": {
        "colab": {
          "base_uri": "https://localhost:8080/",
          "height": 797
        },
        "id": "qz6G8qlGID-x",
        "outputId": "b611cac2-7e79-49d5-ae6e-37b251f620e6"
      },
      "execution_count": 3,
      "outputs": [
        {
          "output_type": "display_data",
          "data": {
            "text/plain": [
              "<Figure size 1000x600 with 1 Axes>"
            ],
            "image/png": "[encoded data removed]"
          },
          "metadata": {}
        },
        {
          "output_type": "stream",
          "name": "stdout",
          "text": [
            "Estimated Zipf's Law exponent: -1.03\n",
            "Total Words: 11861\n",
            "Unique Words: 2031\n",
            "Type-Token Ratio (TTR): 0.1712334541775567\n",
            "Moving Average TTR (MATTR): 0.44717637739834576\n",
            "Total Rare Types: 797\n",
            "Entropy: 9.276977834891051\n",
            "Most Common Words: [('म', 429), ('क', 360), ('कर', 317), ('ल', 259), ('त', 177), ('तब', 145), ('अर', 134), ('रहय', 114), ('हय', 107), ('र', 102)]\n",
            "Root Words (Morphed using Morfessor): ['ज ड य', 'कर', 'द न', 'रहय', 'बह न', 'कर', 'टम', 'च र', 'खट', 'कहटचकहट', 'अक ठ', 'ब ग', 'कर', 'छव', 'सकल एक', 'जम', 'कर', 'र क', 'त ड़', 'स य', 'रहय', 'इछ', 'भल', 'स ह ब', 'क ज र', 'क', 'न कड़ क', 'आय', 'रहय', 'फर', 'पसतवय', 'तफर', 'ओखर', 'नजर', 'जम', 'र क', 'कर', 'त ड़', 'पड़ स', 'आ ख', 'फल एस', 'ब द', 'दवड़ य स', 'ए ह', 'फटबल', 'घखस', 'चल य', 'एक', 'ख ल क', 'थड़क', 'त त', 'प य', 'ज ए', 'आव', 'द ख स', 'न', 'त व', 'भल', 'ग ड', 'म', 'उचट', 'द स', 'ब ग', 'कर', 'छवय', 'अधड़झवड़', 'म', 'ब ग', 'कर', 'छव', 'ग र र य स', 'अर फर', 'र क', 'कर', 'थग', 'य', 'धर', 'ल स', 'मगर', 'थग', 'टट', 'गय', 'भल', 'स ह ब', 'ह ब', 'गठ', 'जन', 'ग स', 'प स त ए', 'तफर', 'आग', 'छ', 'दवड़ क', 'च ग ल', 'दयठ', 'हथ', 'बढ़यक', 'अर फर', 'ब ग', 'कर', 'छव', 'य', 'झक', 'ल स', 'य ह', 'इ', 'क', 'ब ग', 'कर', 'छव', 'फरच', 'उचटयक', 'न न', 'कहय', 'अक', 'द व', 'फर', 'भल', 'द द', 'उचट एस', 'द ई', 'द व', 'तन', 'द व', 'फर', 'हर द र', 'इ ह च', 'ह व य', 'ब ग', 'कर', 'छव', 'य', 'उचट', 'म', 'म ज', 'आव य', 'फर', 'भल', 'हफर', 'क', 'त ग', 'हय ग', 'ओ ह ह', 'क हन', 'अड़ च द', 'म', 'आय', 'फसव', 'बर', 'द व', 'उचटत', 'ह', 'भल', 'घर', 'छ', 'दवड़ स', 'अर फर', 'ल क', 'ग ए', 'इ द र', 'ब ग', 'कर', 'छव', 'धममस', 'ल', 'भय', 'म', 'ग र', 'ग ए', 'थग', 'घल', 'टट', 'ग ए', 'तभ', 'र ख ड़ ह', 'उ ह', 'आएस', 'अर फर', 'ब ग', 'कर', 'छव', 'स ग', 'भड़', 'पड़ स', 'थघ', 'टड़', 'द', 'र क', 'कर', 'आन', 'ज र बन', 'ब ग', 'कर', 'छव', 'कहस', 'थड़क', 'स धर', 'त', 'ल व', 'र ख ड़ ह', 'कहस', 'बन', 'हय', 'म', 'अभव', 'आथव', 'र ख ड़ ह', 'कर', 'उ ह', 'ल', 'ज त', 'ह', 'ब ग', 'कर', 'छव', 'घल', 'नव', 'द ई', 'गय र', 'हय ग', 'उ व', 'घखस', 'ज व', 'बच ग', 'त', 'ल ख', 'उ प ए', 'चरठ', 'बल व', 'मन', 'ज ड', 'क', 'च त र', 'म स', 'चरठ', 'बल व', 'मन', 'ज ड', 'क', 'च त र', 'म स', 'चरठ', 'बल व', 'मन', 'ज ड', 'क', 'च त र', 'म स', 'य', 'धर न', 'म', 'ख ह', 'म', 'ख ह', 'हय न', 'सबझन', 'च व ड़', 'य', 'धर न', 'म', 'ख ह', 'म', 'ख ह', 'हय न', 'सबझन', 'च व ड़', 'गठस', 'च त र अर', 'न न दय', 'अपन', 'अपनझई', 'च व ण ओ', 'गठस', 'च त र अर', 'न न दय', 'अपन', 'अपनझई', 'च व ण ओ', 'गठस', 'च त र अर', 'न न दय', 'अपन', 'अपनझई', 'च व ण ओ', 'द रह', 'ल म', 'कर', 'र ख', 'ठड', 'रह', 'तन', 'ज य क', 'ओ क', 'धर', 'द रह', 'ल म', 'कर', 'र ख', 'ठड', 'रह', 'तन', 'ज य क', 'ओ क', 'धर', 'जन', 'ओ क', 'छ', 'क', 'आघ', 'आ ह', 'जन', 'ओ क', 'छ', 'क', 'आघ', 'आ ह', 'जन', 'ओ क', 'छ', 'क', 'आघ', 'आ ह', 'बन', 'क न', 'य', 'बट', 'दय', 'उआ', 'मय', 'ख ह', 'बन', 'क न', 'य', 'बट', 'दय', 'उआ', 'मय', 'ख ह', 'मर क', 'बल व', 'नई क', 'जन य', 'ल व ह', 'द व ह', 'दवड़ न', 'मर क', 'बल व', 'नई क', 'जन य', 'ल व ह', 'द व ह', 'दवड़ न', 'अक ठ', 'रन', 'चट', 'रहय', 'च र', 'यडट', 'क', 'प र त', 'द न', 'ड ग र', 'ज य', 'सफ', 'चट', 'ओखर', 'स ग', 'ज य', 'उ', 'ड ग र', 'म', 'अक ठ', 'हथ', 'रहय', 'उ व', 'द न भर', 'घमय', 'कभ', 'इ', 'र ख', 'टड़ई', 'कभ', 'उ', 'र ख', 'य', 'टड़य', 'अक', 'चटक', 'ख य', 'आध', 'फटक य', 'ल म', 'स ड', 'म', 'प न', 'भर य', 'अर', 'न ह व य', 'द स र', 'ज व द', 'य', 'प न', 'फजवय', 'ज व द', 'स ग', 'प ल प ल', 'करय', 'चट', 'मन', 'मसक', 'द व य', 'सबझन', 'ओ क', 'डर व', 'ओ य', 'क न', 'कछ', 'नई', 'कहय', 'हथ', 'ल', 'सफ झन', 'त ग रहय', 'अक', 'द न', 'कर', 'गठ', 'आय', 'रन', 'चट', 'हथ', 'स ग', 'भट', 'हई स', 'उआ', 'बल स', 'तई', 'द स र', 'य', 'पदथस', 'ई आ', 'बन', 'न हय', 'हथ', 'बल स', 'च प', 'रह', 'न न', 'नष', 'ज व', 'बड बड', 'गठ', 'गठथस', 'मर', 'मन', 'म', 'च ह', 'जस', 'कर व', 'रन', 'चट', 'बल स', 'ब ग', 'य', 'गठदह', 'हथ', 'हस क', 'बल स', 'ब ग', 'य', 'क', 'गठब', 'उ व', 'मर', 'द म', 'म', 'म ख य', 'अ हय', 'रन', 'चट', 'च प', 'ह गइस', 'उ व', 'उ जड़', 'म', 'जइ क', 'ल क', 'गइस', 'हथ', 'इचछ', 'उचछ', 'घमय', 'रन', 'चट', 'च प', 'क', 'उखर', 'स ड', 'म', 'पट गय', 'हथ', 'अपन', 'म ज', 'म', 'रहय', 'चट', 'स ड', 'कर', 'भतर', 'म', 'पट गय', 'फर', 'रन', 'चट', 'हथ', 'कर', 'स ड़', 'य', 'कतर', 'क', 'बस त इ स', 'हथ', 'त ग', 'हय', 'गय', 'उ व', 'जड़ जड़', 'स', 'स ड', 'पट कस', 'अर', 'फकस', 'क न', 'जग ड़', 'कम', 'न क', 'आइस', 'चट', 'कतर', 'क', 'नई क', 'छड़यहथ', 'च हर', 'पड़ स', 'त', 'रन', 'चट', 'बल स आईस', 'म ज', 'ल ड़ क', 'अब', 'क ख म', 'रथस', 'आयस', 'बढह', 'स र त', 'रन', 'चट', 'हथ', 'य', 'कतर त च', 'रहय', 'हथ', 'ग र', 'गय', 'बल स', 'रन', 'चट', 'चट', 'रन', 'हइ गय', 'अब', 'क न', 'य', 'न', 'प द व', 'क न', 'य', 'न न', 'न', 'म नव', 'रन', 'चट', 'घखस', 'हथ', 'य', 'अब', 'आयस', 'बदध', 'रन', 'चट', 'स ड', 'कर', 'बह र', 'आयस', 'हथ', 'द द', 'हथ', 'द द', 'जग', 'बदल', 'गय', 'हथ', 'स ड', 'य', 'उठ', 'क', 'ह', 'म', 'ह', 'कहस', 'भदड़', 'म', 'प पड़', 'कर', 'अक ठ', 'र ख', 'रहय', 'उ', 'र ख', 'म', 'जड़', 'स', 'प र व', 'रहय', 'प र व', 'द न भर', 'खन', 'डट', 'क', 'उ ड व य', 'अ धर', 'हय', 'म', 'उन', 'सफ', 'प पड़', 'कर', 'र ख', 'म', 'लहट', 'आव', 'अक', 'द न क', 'गठ', 'आय', 'प र व', 'खन', 'डट', 'क', 'उ ड ए न', 'चटक', 'द रह', 'उ ड ए न', 'त ह', 'अक ठ', 'न न', 'प र व', 'गठस', 'द ख', 'उछ', 'द ख', 'भइ', 'म', 'कतक', 'द न', 'ब ग ड़', 'हय', 'सफ', 'प र व', 'उछ', 'द ख', 'लग न', 'उन हन', 'भइ', 'म', 'जड़', 'स', 'द न', 'द ख स', 'उन', 'धर धर', 'त ड़', 'म', 'उतर न', 'त ह', 'अक ठ', 'स आन', 'प र व', 'गठस', 'ठढव', 'ठढव', 'अभ', 'उ ह', 'झ', 'ज ओ', 'भदड़', 'म', 'इतक', 'द न', 'क त ह', 'ल', 'आय', 'ह', 'द स र', 'प र व', 'गठस', 'कह', 'ल', 'आय', 'ह', 'आव', 'हम', 'सफ', 'जड़ क', 'द न', 'य', 'च र ब', 'प र व', 'भइ', 'म', 'उतर', 'ग ए', 'उन द न', 'य', 'च र', 'लग न', 'फर', 'स आन', 'प र व', 'उनखर', 'स ग', 'नय क', 'गय स', 'उआ', 'द रह', 'ल', 'द ख य', 'प र व', 'मन', 'पट', 'भर', 'द न', 'ख ए न', 'अब', 'उन', 'उ ड य', 'क', 'डट', 'फर', 'उ ड य', 'नय क', 'स क', 'उन', 'फद', 'म', 'बझ', 'गय', 'रहय', 'प र व', 'च कर', 'बच वबच व', 'हम', 'फद', 'म', 'बझ', 'गय न', 'त ह', 'अक ठ', 'प र व', 'च कर स', 'उछ', 'द ख', 'अर अर', 'उआ', 'त', 'ष कर', 'आय', 'उआ', 'हम', 'धर', 'क', 'आ', 'थय', 'स आन', 'प र व', 'गठस', 'हड़ बड़ व', 'झ', 'सफ', 'जड़ क', 'बल', 'लग ओ', 'फद', 'य', 'धर क', 'अक', 'स ग', 'उ ड', 'ज व', 'सफ', 'प र व', 'जड़ क', 'बल', 'ल गय न', 'फद', 'चटक', 'म च', 'उठ स', 'त', 'प र व', 'अउ', 'बल', 'ल गय न', 'अब', 'प र व', 'फद', 'धर क', 'उ ड', 'गय न', 'स आन', 'प र व', 'आग आग', 'उ ड व य', 'सफ', 'प र व', 'ओखर', 'पछ', 'रहय', 'स आन', 'प र व', 'उन हन', 'धर क', 'जड़', 'द रह', 'उ ड', 'ग ए', 'उआ', 'अक ठ', 'टटहफटह', 'घर', 'छ', 'ध आन', 'कर स', 'उआ', 'गठस', 'इ ह', 'अक ठ', 'म स', 'रह', 'थय', 'उआ', 'मर', 'स ग', 'आय', 'उआ', 'हमर', 'स ह जग', 'कर ह', 'इ ह', 'उतर', 'ज व', 'स आन', 'प र व', 'म स', 'य', 'बल य स', 'म स', 'फद', 'य', 'कतर', 'दय स', 'प र व', 'फद', 'ल', 'बच क', 'आय न', 'उन', 'म स य', 'धनयवद', 'दय न', 'सफ', 'प र व', 'मन', 'अब', 'स आन', 'प र व', 'ल', 'मफ', 'मगन', 'अउ', 'ओ क', 'धनयवद', 'दय न', 'आज', 'हमर', 'ग व', 'म', 'म ड य', 'म ल', 'अ हय', 'बधय', 'स क व र', 'अर', 'स ग त', 'आज', 'बह न', 'ल', 'म ड य', 'ज य कर', 'न न', 'त आ र', 'हय', 'ह', 'च त', 'म ग ल', 'अर', 'स मर', 'घलक', 'त ल', 'ककय', 'कर क', 'त आ र', 'हय', 'ह', 'सब', 'ल ड़ क', 'खन ख क', 'म ड य', 'द ख क', 'न न', 'न कड़', 'गय न', 'ह', 'उन', 'म ड य', 'लघघ', 'प ह च न', 'जस', 'उन ह', 'रह चल', 'कर', 'आ र', 'स नय', 'पड़ स', 'ह ब', 'ह ब', 'र ग क', 'सफ', 'झन', 'म ड य', 'म', 'प ह च न', 'सफ झन', 'झलन', 'कर', 'लघघ', 'ज य क', 'ठढ', 'ग न', 'जस', 'झल', 'र कस', 'सफ', 'ल ड़ क', 'बइठ क', 'न न', 'क द', 'पड़ न', 'बठ', 'लय न', 'त ख र', 'ब द', 'झल', 'षर', 'हय', 'गय', 'लड़कन', 'मन', 'खष', 'कर', 'मर', 'च करय', 'लग न', 'स मर', 'जड़', 'स', 'डर व य', 'उआ', 'अपन', 'म ह', 'ल क य', 'लय', 'रहय', 'सफ झन', 'झल', 'झल', 'क', 'उ ह', 'ल']\n",
            "Total no. of sentences: 1393\n",
            "Relative Frequencies of Top 10 Morphemes: {'म': 0.03616895708624905, 'क': 0.030351572380069133, 'कर': 0.026726245679116432, 'ल': 0.02183627012899418, 'त': 0.014922856420200657, 'तब': 0.012224938875305624, 'अर': 0.011297529719247955, 'रहय': 0.009611331253688559, 'हय': 0.00902116179074277, 'र': 0.00859961217435292}\n",
            "Cumulative Coverage of Top 10 Morphemes: [('म', 0.03616895708624905), ('क', 0.06652052946631819), ('कर', 0.09324677514543461), ('ल', 0.1150830452744288), ('त', 0.13000590169462944), ('तब', 0.14223084056993507), ('अर', 0.15352837028918304), ('रहय', 0.1631397015428716), ('हय', 0.17216086333361438), ('र', 0.1807604755079673)]\n"
          ]
        }
      ]
    },
    {
      "cell_type": "code",
      "source": [
        "# Analyze word length in terms of characters\n",
        "def analyze_word_length(tokens):\n",
        "    word_lengths = [len(word) for word in tokens]\n",
        "    length_counts = Counter(word_lengths)\n",
        "    return length_counts\n",
        "\n",
        "# Compute statistics for word length\n",
        "def compute_word_length_stats(word_lengths):\n",
        "    lengths = list(word_lengths.elements())\n",
        "    mean_length = np.mean(lengths)\n",
        "    median_length = np.median(lengths)\n",
        "    mode_length = max(word_lengths, key=word_lengths.get)\n",
        "    return mean_length, median_length, mode_length\n",
        "\n",
        "# Plot word length distribution\n",
        "def plot_word_length_distribution(word_lengths):\n",
        "    lengths, counts = zip(*sorted(word_lengths.items()))\n",
        "    plt.figure(figsize=(10, 6))\n",
        "    plt.bar(lengths, counts, color=\"skyblue\", edgecolor=\"black\")\n",
        "    plt.xlabel(\"Word Length (Characters)\")\n",
        "    plt.ylabel(\"Frequency\")\n",
        "    plt.title(\"Word Length Distribution\")\n",
        "    plt.xticks(lengths)\n",
        "    plt.grid(axis=\"y\", linestyle=\"dashed\", alpha=0.7)\n",
        "    plt.show()\n",
        "\n",
        "    # Analyze word length\n",
        "token_lengths = analyze_word_length(tokens)\n",
        "mean_length, median_length, mode_length = compute_word_length_stats(token_lengths)\n",
        "plot_word_length_distribution(token_lengths)\n",
        "\n",
        "# Display results\n",
        "print(\"Mean Word Length:\", mean_length)\n",
        "print(\"Median Word Length:\", median_length)\n",
        "print(\"Most Common Word Length (Mode):\", mode_length)\n",
        "\n"
      ],
      "metadata": {
        "colab": {
          "base_uri": "https://localhost:8080/",
          "height": 616
        },
        "id": "zNDN5F64J1iI",
        "outputId": "293c5a17-4668-40cc-ddf4-65fe4bf9d4c3"
      },
      "execution_count": 4,
      "outputs": [
        {
          "output_type": "display_data",
          "data": {
            "text/plain": [
              "<Figure size 1000x600 with 1 Axes>"
            ],
            "image/png": "[encoded data removed]"
          },
          "metadata": {}
        },
        {
          "output_type": "stream",
          "name": "stdout",
          "text": [
            "Mean Word Length: 2.461428210100329\n",
            "Median Word Length: 2.0\n",
            "Most Common Word Length (Mode): 2\n"
          ]
        }
      ]
    },
    {
      "cell_type": "code",
      "source": [
        "from collections import Counter\n",
        "\n",
        "# Function to generate character-level n-grams\n",
        "def get_character_ngrams(text, n):\n",
        "    return [text[i:i+n] for i in range(len(text) - n + 1)]\n",
        "\n",
        "# Function to calculate TTR\n",
        "def calculate_ttr(text, n):\n",
        "    ngrams = get_character_ngrams(text, n)\n",
        "    total_ngrams = len(ngrams)\n",
        "    unique_ngrams = len(set(ngrams))\n",
        "\n",
        "    if total_ngrams == 0:\n",
        "        return 0  # Avoid division by zero\n",
        "\n",
        "    return unique_ngrams / total_ngrams\n",
        "\n",
        "# Function to calculate MTTR with a window size\n",
        "def calculate_mttr(text, n, window_size):\n",
        "    ngrams = get_character_ngrams(text, n)\n",
        "\n",
        "    if len(ngrams) < window_size:\n",
        "        return 0  # Not enough n-grams for window\n",
        "\n",
        "    mttr_values = []\n",
        "    for i in range(len(ngrams) - window_size + 1):\n",
        "        window = ngrams[i:i+window_size]\n",
        "        unique_ngrams = len(set(window))\n",
        "        mttr_values.append(unique_ngrams / window_size)\n",
        "\n",
        "    return sum(mttr_values) / len(mttr_values) if mttr_values else 0\n",
        "\n",
        "# Read Chhattisgarhi text from the file\n",
        "with open('totalbaiagani.txt', 'r', encoding='utf-8') as file:\n",
        "    text = file.read().replace(\"\\n\", \" \")  # Merge lines into a single text\n",
        "\n",
        "# Compute TTR and MTTR for n=1 to n=7\n",
        "window_size = 500  # Define window size for MTTR\n",
        "\n",
        "for n in range(1, 8):\n",
        "    ttr = calculate_ttr(text, n)\n",
        "    mttr = calculate_mttr(text, n, window_size)\n",
        "    print(f\"{n}-gram TTR: {ttr:.4f}, MTTR: {mttr:.4f}\")\n"
      ],
      "metadata": {
        "colab": {
          "base_uri": "https://localhost:8080/"
        },
        "id": "mC5rNBoNLTqB",
        "outputId": "c9d3fa64-482f-445e-d7da-03b83e767d67"
      },
      "execution_count": 18,
      "outputs": [
        {
          "output_type": "stream",
          "name": "stdout",
          "text": [
            "1-gram TTR: 0.0016, MTTR: 0.0950\n",
            "2-gram TTR: 0.0286, MTTR: 0.3934\n",
            "3-gram TTR: 0.1213, MTTR: 0.6344\n",
            "4-gram TTR: 0.2790, MTTR: 0.7554\n",
            "5-gram TTR: 0.4328, MTTR: 0.8250\n",
            "6-gram TTR: 0.5415, MTTR: 0.8718\n",
            "7-gram TTR: 0.6157, MTTR: 0.9042\n"
          ]
        }
      ]
    },
    {
      "cell_type": "code",
      "source": [
        "!apt install -y cmake build-essential libboost-all-dev"
      ],
      "metadata": {
        "colab": {
          "base_uri": "https://localhost:8080/"
        },
        "id": "6t3Vd8SJLemY",
        "outputId": "1e1345c2-5abe-4e9a-c574-073ed97a233f"
      },
      "execution_count": 8,
      "outputs": [
        {
          "output_type": "stream",
          "name": "stdout",
          "text": [
            "Reading package lists... Done\n",
            "Building dependency tree... Done\n",
            "Reading state information... Done\n",
            "build-essential is already the newest version (12.9ubuntu3).\n",
            "libboost-all-dev is already the newest version (1.74.0.3ubuntu7).\n",
            "cmake is already the newest version (3.22.1-1ubuntu1.22.04.2).\n",
            "0 upgraded, 0 newly installed, 0 to remove and 18 not upgraded.\n"
          ]
        }
      ]
    },
    {
      "cell_type": "code",
      "source": [
        "!git clone https://github.com/kpu/kenlm.git"
      ],
      "metadata": {
        "colab": {
          "base_uri": "https://localhost:8080/"
        },
        "id": "qiD9JjK2LzCo",
        "outputId": "27c15184-c17c-4c11-a798-ad9b8e03db58"
      },
      "execution_count": 9,
      "outputs": [
        {
          "output_type": "stream",
          "name": "stdout",
          "text": [
            "Cloning into 'kenlm'...\n",
            "remote: Enumerating objects: 14170, done.\u001b[K\n",
            "remote: Counting objects: 100% (123/123), done.\u001b[K\n",
            "remote: Compressing objects: 100% (67/67), done.\u001b[K\n",
            "remote: Total 14170 (delta 85), reused 56 (delta 56), pack-reused 14047 (from 4)\u001b[K\n",
            "Receiving objects: 100% (14170/14170), 5.98 MiB | 12.24 MiB/s, done.\n",
            "Resolving deltas: 100% (8041/8041), done.\n"
          ]
        }
      ]
    },
    {
      "cell_type": "code",
      "source": [
        "!cd kenlm && mkdir -p build && cd build && cmake .. && make -j2"
      ],
      "metadata": {
        "colab": {
          "base_uri": "https://localhost:8080/"
        },
        "id": "NwR9hsr0L1is",
        "outputId": "b048a17d-1540-4a2e-882d-ddfdc06689ec"
      },
      "execution_count": 10,
      "outputs": [
        {
          "output_type": "stream",
          "name": "stdout",
          "text": [
            "\u001b[0mCMake Deprecation Warning at CMakeLists.txt:1 (cmake_minimum_required):\n",
            "  Compatibility with CMake < 3.10 will be removed from a future version of\n",
            "  CMake.\n",
            "\n",
            "  Update the VERSION argument <min> value.  Or, use the <min>...<max> syntax\n",
            "  to tell CMake that the project requires at least <min> but has been updated\n",
            "  to work with policies introduced by <max> or earlier.\n",
            "\n",
            "\u001b[0m\n",
            "-- The C compiler identification is GNU 11.4.0\n",
            "-- The CXX compiler identification is GNU 11.4.0\n",
            "-- Detecting C compiler ABI info\n",
            "-- Detecting C compiler ABI info - done\n",
            "-- Check for working C compiler: /usr/bin/cc - skipped\n",
            "-- Detecting C compile features\n",
            "-- Detecting C compile features - done\n",
            "-- Detecting CXX compiler ABI info\n",
            "-- Detecting CXX compiler ABI info - done\n",
            "-- Check for working CXX compiler: /usr/bin/c++ - skipped\n",
            "-- Detecting CXX compile features\n",
            "-- Detecting CXX compile features - done\n",
            "-- Could NOT find Eigen3 (missing: Eigen3_DIR)\n",
            "\u001b[33mCMake Warning (dev) at CMakeLists.txt:97 (find_package):\n",
            "  Policy CMP0167 is not set: The FindBoost module is removed.  Run \"cmake\n",
            "  --help-policy CMP0167\" for policy details.  Use the cmake_policy command to\n",
            "  set the policy and suppress this warning.\n",
            "\n",
            "This warning is for project developers.  Use -Wno-dev to suppress it.\n",
            "\u001b[0m\n",
            "-- Found Boost: /usr/lib/x86_64-linux-gnu/cmake/Boost-1.74.0/BoostConfig.cmake (found suitable version \"1.74.0\", minimum required is \"1.41.0\") found components: program_options system thread unit_test_framework\n",
            "-- Found Threads: TRUE\n",
            "-- Found ZLIB: /usr/lib/x86_64-linux-gnu/libz.so (found version \"1.2.11\")\n",
            "-- Found BZip2: /usr/lib/x86_64-linux-gnu/libbz2.so (found version \"1.0.8\")\n",
            "-- Looking for BZ2_bzCompressInit\n",
            "-- Looking for BZ2_bzCompressInit - found\n",
            "-- Looking for lzma_auto_decoder in /usr/lib/x86_64-linux-gnu/liblzma.so\n",
            "-- Looking for lzma_auto_decoder in /usr/lib/x86_64-linux-gnu/liblzma.so - found\n",
            "-- Looking for lzma_easy_encoder in /usr/lib/x86_64-linux-gnu/liblzma.so\n",
            "-- Looking for lzma_easy_encoder in /usr/lib/x86_64-linux-gnu/liblzma.so - found\n",
            "-- Looking for lzma_lzma_preset in /usr/lib/x86_64-linux-gnu/liblzma.so\n",
            "-- Looking for lzma_lzma_preset in /usr/lib/x86_64-linux-gnu/liblzma.so - found\n",
            "-- Found LibLZMA: /usr/lib/x86_64-linux-gnu/liblzma.so (found version \"5.2.5\")\n",
            "-- Looking for clock_gettime in rt\n",
            "-- Looking for clock_gettime in rt - found\n",
            "-- Configuring done (1.9s)\n",
            "-- Generating done (0.1s)\n",
            "-- Build files have been written to: /content/kenlm/build\n",
            "[  2%] \u001b[32mBuilding CXX object util/CMakeFiles/kenlm_util.dir/double-conversion/bignum-dtoa.cc.o\u001b[0m\n",
            "[  2%] \u001b[32mBuilding CXX object util/CMakeFiles/kenlm_util.dir/double-conversion/bignum.cc.o\u001b[0m\n",
            "[  3%] \u001b[32mBuilding CXX object util/CMakeFiles/kenlm_util.dir/double-conversion/cached-powers.cc.o\u001b[0m\n",
            "[  5%] \u001b[32mBuilding CXX object util/CMakeFiles/kenlm_util.dir/double-conversion/fast-dtoa.cc.o\u001b[0m\n",
            "[  6%] \u001b[32mBuilding CXX object util/CMakeFiles/kenlm_util.dir/double-conversion/fixed-dtoa.cc.o\u001b[0m\n",
            "[  7%] \u001b[32mBuilding CXX object util/CMakeFiles/kenlm_util.dir/double-conversion/strtod.cc.o\u001b[0m\n",
            "[  8%] \u001b[32mBuilding CXX object util/CMakeFiles/kenlm_util.dir/double-conversion/double-to-string.cc.o\u001b[0m\n",
            "[ 10%] \u001b[32mBuilding CXX object util/CMakeFiles/kenlm_util.dir/double-conversion/string-to-double.cc.o\u001b[0m\n",
            "[ 11%] \u001b[32mBuilding CXX object util/CMakeFiles/kenlm_util.dir/stream/chain.cc.o\u001b[0m\n",
            "[ 12%] \u001b[32mBuilding CXX object util/CMakeFiles/kenlm_util.dir/stream/count_records.cc.o\u001b[0m\n",
            "[ 13%] \u001b[32mBuilding CXX object util/CMakeFiles/kenlm_util.dir/stream/io.cc.o\u001b[0m\n",
            "[ 15%] \u001b[32mBuilding CXX object util/CMakeFiles/kenlm_util.dir/stream/line_input.cc.o\u001b[0m\n",
            "[ 16%] \u001b[32mBuilding CXX object util/CMakeFiles/kenlm_util.dir/stream/multi_progress.cc.o\u001b[0m\n",
            "[ 17%] \u001b[32mBuilding CXX object util/CMakeFiles/kenlm_util.dir/stream/rewindable_stream.cc.o\u001b[0m\n",
            "[ 18%] \u001b[32mBuilding CXX object util/CMakeFiles/kenlm_util.dir/bit_packing.cc.o\u001b[0m\n",
            "[ 20%] \u001b[32mBuilding CXX object util/CMakeFiles/kenlm_util.dir/ersatz_progress.cc.o\u001b[0m\n",
            "[ 21%] \u001b[32mBuilding CXX object util/CMakeFiles/kenlm_util.dir/exception.cc.o\u001b[0m\n",
            "[ 22%] \u001b[32mBuilding CXX object util/CMakeFiles/kenlm_util.dir/file.cc.o\u001b[0m\n",
            "[ 23%] \u001b[32mBuilding CXX object util/CMakeFiles/kenlm_util.dir/file_piece.cc.o\u001b[0m\n",
            "[ 25%] \u001b[32mBuilding CXX object util/CMakeFiles/kenlm_util.dir/float_to_string.cc.o\u001b[0m\n",
            "[ 26%] \u001b[32mBuilding CXX object util/CMakeFiles/kenlm_util.dir/integer_to_string.cc.o\u001b[0m\n",
            "[ 27%] \u001b[32mBuilding CXX object util/CMakeFiles/kenlm_util.dir/mmap.cc.o\u001b[0m\n",
            "[ 28%] \u001b[32mBuilding CXX object util/CMakeFiles/kenlm_util.dir/murmur_hash.cc.o\u001b[0m\n",
            "[ 30%] \u001b[32mBuilding CXX object util/CMakeFiles/kenlm_util.dir/parallel_read.cc.o\u001b[0m\n",
            "[ 31%] \u001b[32mBuilding CXX object util/CMakeFiles/kenlm_util.dir/pool.cc.o\u001b[0m\n",
            "[ 32%] \u001b[32mBuilding CXX object util/CMakeFiles/kenlm_util.dir/read_compressed.cc.o\u001b[0m\n",
            "[ 33%] \u001b[32mBuilding CXX object util/CMakeFiles/kenlm_util.dir/scoped.cc.o\u001b[0m\n",
            "[ 35%] \u001b[32mBuilding CXX object util/CMakeFiles/kenlm_util.dir/spaces.cc.o\u001b[0m\n",
            "[ 36%] \u001b[32mBuilding CXX object util/CMakeFiles/kenlm_util.dir/string_piece.cc.o\u001b[0m\n",
            "[ 37%] \u001b[32mBuilding CXX object util/CMakeFiles/kenlm_util.dir/usage.cc.o\u001b[0m\n",
            "[ 38%] \u001b[32m\u001b[1mLinking CXX static library ../lib/libkenlm_util.a\u001b[0m\n",
            "[ 38%] Built target kenlm_util\n",
            "[ 40%] \u001b[32mBuilding CXX object lm/CMakeFiles/kenlm.dir/bhiksha.cc.o\u001b[0m\n",
            "[ 41%] \u001b[32mBuilding CXX object util/CMakeFiles/probing_hash_table_benchmark.dir/probing_hash_table_benchmark_main.cc.o\u001b[0m\n",
            "[ 42%] \u001b[32mBuilding CXX object lm/CMakeFiles/kenlm.dir/binary_format.cc.o\u001b[0m\n",
            "[ 43%] \u001b[32mBuilding CXX object lm/CMakeFiles/kenlm.dir/config.cc.o\u001b[0m\n",
            "[ 45%] \u001b[32mBuilding CXX object lm/CMakeFiles/kenlm.dir/lm_exception.cc.o\u001b[0m\n",
            "[ 46%] \u001b[32mBuilding CXX object lm/CMakeFiles/kenlm.dir/model.cc.o\u001b[0m\n",
            "[ 47%] \u001b[32mBuilding CXX object lm/CMakeFiles/kenlm.dir/quantize.cc.o\u001b[0m\n",
            "[ 48%] \u001b[32mBuilding CXX object lm/CMakeFiles/kenlm.dir/read_arpa.cc.o\u001b[0m\n",
            "[ 50%] \u001b[32m\u001b[1mLinking CXX executable ../bin/probing_hash_table_benchmark\u001b[0m\n",
            "[ 50%] Built target probing_hash_table_benchmark\n",
            "[ 51%] \u001b[32mBuilding CXX object lm/filter/CMakeFiles/kenlm_filter.dir/arpa_io.cc.o\u001b[0m\n",
            "[ 52%] \u001b[32mBuilding CXX object lm/filter/CMakeFiles/kenlm_filter.dir/phrase.cc.o\u001b[0m\n",
            "[ 53%] \u001b[32mBuilding CXX object lm/CMakeFiles/kenlm.dir/search_hashed.cc.o\u001b[0m\n",
            "[ 55%] \u001b[32mBuilding CXX object lm/CMakeFiles/kenlm.dir/search_trie.cc.o\u001b[0m\n",
            "[ 56%] \u001b[32mBuilding CXX object lm/filter/CMakeFiles/kenlm_filter.dir/vocab.cc.o\u001b[0m\n",
            "[ 57%] \u001b[32m\u001b[1mLinking CXX static library ../../lib/libkenlm_filter.a\u001b[0m\n",
            "[ 57%] Built target kenlm_filter\n",
            "[ 58%] \u001b[32mBuilding CXX object lm/CMakeFiles/kenlm.dir/sizes.cc.o\u001b[0m\n",
            "[ 60%] \u001b[32mBuilding CXX object lm/CMakeFiles/kenlm.dir/trie.cc.o\u001b[0m\n",
            "[ 61%] \u001b[32mBuilding CXX object lm/CMakeFiles/kenlm.dir/trie_sort.cc.o\u001b[0m\n",
            "[ 62%] \u001b[32mBuilding CXX object lm/CMakeFiles/kenlm.dir/value_build.cc.o\u001b[0m\n",
            "[ 63%] \u001b[32mBuilding CXX object lm/CMakeFiles/kenlm.dir/virtual_interface.cc.o\u001b[0m\n",
            "[ 65%] \u001b[32mBuilding CXX object lm/CMakeFiles/kenlm.dir/vocab.cc.o\u001b[0m\n",
            "[ 66%] \u001b[32mBuilding CXX object lm/CMakeFiles/kenlm.dir/common/model_buffer.cc.o\u001b[0m\n",
            "[ 67%] \u001b[32mBuilding CXX object lm/CMakeFiles/kenlm.dir/common/print.cc.o\u001b[0m\n",
            "[ 68%] \u001b[32mBuilding CXX object lm/CMakeFiles/kenlm.dir/common/renumber.cc.o\u001b[0m\n",
            "[ 70%] \u001b[32mBuilding CXX object lm/CMakeFiles/kenlm.dir/common/size_option.cc.o\u001b[0m\n",
            "[ 71%] \u001b[32m\u001b[1mLinking CXX static library ../lib/libkenlm.a\u001b[0m\n",
            "[ 71%] Built target kenlm\n",
            "[ 72%] \u001b[32mBuilding CXX object lm/CMakeFiles/query.dir/query_main.cc.o\u001b[0m\n",
            "[ 73%] \u001b[32mBuilding CXX object lm/CMakeFiles/fragment.dir/fragment_main.cc.o\u001b[0m\n",
            "[ 75%] \u001b[32m\u001b[1mLinking CXX executable ../bin/fragment\u001b[0m\n",
            "[ 75%] Built target fragment\n",
            "[ 76%] \u001b[32mBuilding CXX object lm/CMakeFiles/build_binary.dir/build_binary_main.cc.o\u001b[0m\n",
            "[ 77%] \u001b[32m\u001b[1mLinking CXX executable ../bin/query\u001b[0m\n",
            "[ 77%] Built target query\n",
            "[ 78%] \u001b[32mBuilding CXX object lm/CMakeFiles/kenlm_benchmark.dir/kenlm_benchmark_main.cc.o\u001b[0m\n",
            "[ 80%] \u001b[32m\u001b[1mLinking CXX executable ../bin/build_binary\u001b[0m\n",
            "[ 80%] Built target build_binary\n",
            "[ 81%] \u001b[32mBuilding CXX object lm/builder/CMakeFiles/kenlm_builder.dir/adjust_counts.cc.o\u001b[0m\n",
            "[ 82%] \u001b[32mBuilding CXX object lm/builder/CMakeFiles/kenlm_builder.dir/corpus_count.cc.o\u001b[0m\n",
            "[ 83%] \u001b[32mBuilding CXX object lm/builder/CMakeFiles/kenlm_builder.dir/initial_probabilities.cc.o\u001b[0m\n",
            "[ 85%] \u001b[32mBuilding CXX object lm/builder/CMakeFiles/kenlm_builder.dir/interpolate.cc.o\u001b[0m\n",
            "[ 86%] \u001b[32m\u001b[1mLinking CXX executable ../bin/kenlm_benchmark\u001b[0m\n",
            "[ 87%] \u001b[32mBuilding CXX object lm/builder/CMakeFiles/kenlm_builder.dir/output.cc.o\u001b[0m\n",
            "[ 87%] Built target kenlm_benchmark\n",
            "[ 88%] \u001b[32mBuilding CXX object lm/builder/CMakeFiles/kenlm_builder.dir/pipeline.cc.o\u001b[0m\n",
            "[ 90%] \u001b[32mBuilding CXX object lm/filter/CMakeFiles/filter.dir/filter_main.cc.o\u001b[0m\n",
            "[ 91%] \u001b[32m\u001b[1mLinking CXX static library ../../lib/libkenlm_builder.a\u001b[0m\n",
            "[ 91%] Built target kenlm_builder\n",
            "[ 92%] \u001b[32mBuilding CXX object lm/filter/CMakeFiles/phrase_table_vocab.dir/phrase_table_vocab_main.cc.o\u001b[0m\n",
            "[ 93%] \u001b[32m\u001b[1mLinking CXX executable ../../bin/phrase_table_vocab\u001b[0m\n",
            "[ 93%] Built target phrase_table_vocab\n",
            "[ 95%] \u001b[32mBuilding CXX object lm/builder/CMakeFiles/lmplz.dir/lmplz_main.cc.o\u001b[0m\n",
            "[ 96%] \u001b[32m\u001b[1mLinking CXX executable ../../bin/filter\u001b[0m\n",
            "[ 96%] Built target filter\n",
            "[ 97%] \u001b[32mBuilding CXX object lm/builder/CMakeFiles/count_ngrams.dir/count_ngrams_main.cc.o\u001b[0m\n",
            "[ 98%] \u001b[32m\u001b[1mLinking CXX executable ../../bin/lmplz\u001b[0m\n",
            "[ 98%] Built target lmplz\n",
            "[100%] \u001b[32m\u001b[1mLinking CXX executable ../../bin/count_ngrams\u001b[0m\n",
            "[100%] Built target count_ngrams\n"
          ]
        }
      ]
    },
    {
      "cell_type": "code",
      "source": [
        "# Read Chhattisgarhi text from a file\n",
        "with open('totalbaiagani.txt', 'r', encoding='utf-8') as file:\n",
        "    totalsadri = file.read()\n",
        "\n",
        "def char_tokenize(text):\n",
        "    return \" \".join(text.replace(\" \", \"_\"))  # Replace spaces with \"_\"\n",
        "\n",
        "\n",
        "# Open the file, tokenize character-wise, and save it\n",
        "output_file = \"baiagani_char_tokenized.txt\"\n",
        "\n",
        "with open('totalbaiagani.txt', \"r\", encoding=\"utf-8\") as infile, open(output_file, \"w\", encoding=\"utf-8\") as outfile:\n",
        "    for line in infile:\n",
        "        tokenized_line = char_tokenize(line.strip())  # Tokenize line\n",
        "        outfile.write(tokenized_line + \"\\n\")  # Write tokenized text\n",
        "\n",
        "print(f\"Character-tokenized text saved to: {output_file}\")\n"
      ],
      "metadata": {
        "colab": {
          "base_uri": "https://localhost:8080/"
        },
        "id": "xlQQb6SeL349",
        "outputId": "2fe7468c-149f-4448-cd50-f32f9b23fa65"
      },
      "execution_count": 13,
      "outputs": [
        {
          "output_type": "stream",
          "name": "stdout",
          "text": [
            "Character-tokenized text saved to: baiagani_char_tokenized.txt\n"
          ]
        }
      ]
    },
    {
      "cell_type": "code",
      "source": [
        "!kenlm/build/bin/lmplz --discount_fallback -o 5 <baiagani_char_tokenized.txt > baiagani.arpa"
      ],
      "metadata": {
        "colab": {
          "base_uri": "https://localhost:8080/"
        },
        "id": "tG60X9yQMAin",
        "outputId": "6b97aa26-7380-428c-e097-7417853b4599"
      },
      "execution_count": 14,
      "outputs": [
        {
          "output_type": "stream",
          "name": "stdout",
          "text": [
            "=== 1/5 Counting and sorting n-grams ===\n",
            "Reading /content/baiagani_char_tokenized.txt\n",
            "----5---10---15---20---25---30---35---40---45---50---55---60---65---70---75---80---85---90---95--100\n",
            "****************************************************************************************************\n",
            "Unigram tokens 56716 types 95\n",
            "=== 2/5 Calculating and sorting adjusted counts ===\n",
            "Chain sizes: 1:1140 2:1062198656 3:1991622656 4:3186596096 5:4647119360\n",
            "Statistics:\n",
            "1 95 D1=0.354839 D2=1.46774 D3+=1.86452\n",
            "2 1694 D1=0.504732 D2=1.23326 D3+=1.57786\n",
            "3 7104 D1=0.656138 D2=1.16249 D3+=1.62625\n",
            "4 15775 D1=0.727217 D2=1.20694 D3+=1.70677\n",
            "5 23860 D1=0.531144 D2=1.53841 D3+=1.4904\n",
            "Memory estimate for binary LM:\n",
            "type      kB\n",
            "probing  997 assuming -p 1.5\n",
            "probing 1142 assuming -r models -p 1.5\n",
            "trie     366 without quantization\n",
            "trie     165 assuming -q 8 -b 8 quantization \n",
            "trie     346 assuming -a 22 array pointer compression\n",
            "trie     145 assuming -a 22 -q 8 -b 8 array pointer compression and quantization\n",
            "=== 3/5 Calculating and sorting initial probabilities ===\n",
            "Chain sizes: 1:1140 2:27104 3:142080 4:378600 5:668080\n",
            "----5---10---15---20---25---30---35---40---45---50---55---60---65---70---75---80---85---90---95--100\n",
            "####################################################################################################\n",
            "=== 4/5 Calculating and writing order-interpolated probabilities ===\n",
            "Chain sizes: 1:1140 2:27104 3:142080 4:378600 5:668080\n",
            "----5---10---15---20---25---30---35---40---45---50---55---60---65---70---75---80---85---90---95--100\n",
            "####################################################################################################\n",
            "=== 5/5 Writing ARPA model ===\n",
            "----5---10---15---20---25---30---35---40---45---50---55---60---65---70---75---80---85---90---95--100\n",
            "****************************************************************************************************\n",
            "Name:lmplz\tVmPeak:10777788 kB\tVmRSS:7392 kB\tRSSMax:1880212 kB\tuser:0.220745\tsys:2.17236\tCPU:2.39314\treal:2.39602\n"
          ]
        }
      ]
    },
    {
      "cell_type": "code",
      "source": [
        "!pip install https://github.com/kpu/kenlm/archive/master.zip\n"
      ],
      "metadata": {
        "colab": {
          "base_uri": "https://localhost:8080/"
        },
        "id": "SogNe6xSMsKd",
        "outputId": "041ce0f1-2cd4-4f2e-8377-649f0e157f88"
      },
      "execution_count": 15,
      "outputs": [
        {
          "output_type": "stream",
          "name": "stdout",
          "text": [
            "Collecting https://github.com/kpu/kenlm/archive/master.zip\n",
            "  Downloading https://github.com/kpu/kenlm/archive/master.zip\n",
            "\u001b[2K     \u001b[32m-\u001b[0m \u001b[32m553.6 kB\u001b[0m \u001b[31m13.8 MB/s\u001b[0m \u001b[33m0:00:00\u001b[0m\n",
            "\u001b[?25h  Installing build dependencies ... \u001b[?25l\u001b[?25hdone\n",
            "  Getting requirements to build wheel ... \u001b[?25l\u001b[?25hdone\n",
            "  Preparing metadata (pyproject.toml) ... \u001b[?25l\u001b[?25hdone\n",
            "Building wheels for collected packages: kenlm\n",
            "  Building wheel for kenlm (pyproject.toml) ... \u001b[?25l\u001b[?25hdone\n",
            "  Created wheel for kenlm: filename=kenlm-0.2.0-cp311-cp311-linux_x86_64.whl size=3186614 sha256=8bb23985854bf98a888fae450191ffcce1d34f7acb24105493a682cfafa0b354\n",
            "  Stored in directory: /tmp/pip-ephem-wheel-cache-pu2te0gv/wheels/4e/ca/6a/e5da175b1396483f6f410cdb4cfe8bc8fa5e12088e91d60413\n",
            "Successfully built kenlm\n",
            "Installing collected packages: kenlm\n",
            "Successfully installed kenlm-0.2.0\n"
          ]
        }
      ]
    },
    {
      "cell_type": "code",
      "source": [
        "!kenlm/build/bin/query -v summary baiagani.arpa <totalbaiagani.txt"
      ],
      "metadata": {
        "colab": {
          "base_uri": "https://localhost:8080/"
        },
        "id": "KtdFAc9QMxVK",
        "outputId": "a8ea88dc-a10a-4474-bd64-e502a185ee3a"
      },
      "execution_count": 16,
      "outputs": [
        {
          "output_type": "stream",
          "name": "stdout",
          "text": [
            "Loading the LM will be faster if you build a binary file.\n",
            "Reading baiagani.arpa\n",
            "----5---10---15---20---25---30---35---40---45---50---55---60---65---70---75---80---85---90---95--100\n",
            "****************************************************************************************************\n",
            "Perplexity including OOVs:\t978.7288535249488\n",
            "Perplexity excluding OOVs:\t121.05670535619616\n",
            "OOVs:\t11337\n",
            "Tokens:\t13305\n",
            "Name:query\tVmPeak:9056 kB\tVmRSS:4572 kB\tRSSMax:6112 kB\tuser:0.031223\tsys:0.006043\tCPU:0.0373511\treal:0.0521636\n"
          ]
        }
      ]
    },
    {
      "cell_type": "code",
      "source": [
        "import kenlm\n",
        "\n",
        "def calculate_cross_entropy(model_path, text):\n",
        "    # Load the KenLM model\n",
        "    model = kenlm.Model(model_path)\n",
        "\n",
        "    # Tokenize the input text\n",
        "    words = text.split()\n",
        "\n",
        "    # Calculate the log probability of the sequence\n",
        "    log_prob = model.score(' '.join(words), bos=True, eos=True)\n",
        "\n",
        "    # Number of words\n",
        "    num_words = len(words)\n",
        "\n",
        "    # Cross-entropy calculation\n",
        "    cross_entropy = -log_prob / num_words\n",
        "\n",
        "    return cross_entropy\n",
        "\n",
        "# Example usage\n",
        "model_path = '/content/baiagani.arpa'\n",
        "file_path = '/content/totalbaiagani.txt'\n",
        "\n",
        "# Read text from file\n",
        "with open(file_path, 'r', encoding='utf-8') as file:\n",
        "    text = file.read()\n",
        "\n",
        "entropy = calculate_cross_entropy(model_path, text)\n",
        "print(f'Cross-Entropy of language: {entropy}')\n"
      ],
      "metadata": {
        "colab": {
          "base_uri": "https://localhost:8080/"
        },
        "id": "fqKist7BNMjO",
        "outputId": "8b50c65f-42b0-414a-e5ab-f7d484eab605"
      },
      "execution_count": 17,
      "outputs": [
        {
          "output_type": "stream",
          "name": "stdout",
          "text": [
            "Cross-Entropy of language: 2.986728782306567\n"
          ]
        }
      ]
    },
    {
      "cell_type": "code",
      "source": [],
      "metadata": {
        "id": "GLfM-F27Nniy"
      },
      "execution_count": null,
      "outputs": []
    }
  ]
}